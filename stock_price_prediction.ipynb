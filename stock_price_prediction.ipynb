{
  "nbformat": 4,
  "nbformat_minor": 0,
  "metadata": {
    "colab": {
      "provenance": [],
      "authorship_tag": "ABX9TyMykFt5nK8K9dVBcfrJzZo9",
      "include_colab_link": true
    },
    "kernelspec": {
      "name": "python3",
      "display_name": "Python 3"
    },
    "language_info": {
      "name": "python"
    }
  },
  "cells": [
    {
      "cell_type": "markdown",
      "metadata": {
        "id": "view-in-github",
        "colab_type": "text"
      },
      "source": [
        "<a href=\"https://colab.research.google.com/github/Nagasai122/salesprediction/blob/main/stock_price_prediction.ipynb\" target=\"_parent\"><img src=\"https://colab.research.google.com/assets/colab-badge.svg\" alt=\"Open In Colab\"/></a>"
      ]
    },
    {
      "cell_type": "code",
      "source": [
        "import numpy as np\n",
        "import pandas as pd\n",
        "import plotly.graph_objs as go\n",
        "from pandas_datareader import data,wb\n",
        "from datetime import date\n",
        "\n",
        "# # Start Date means from which date we want to start fetching Stock Data?\n",
        "# # End Date means till which date we want to fetch Stock Data?\n",
        "# startdate = pd.to_datetime('2018-01-01')\n",
        "# enddate = pd.to_datetime(date.today())\n",
        "\n",
        "# data.DataReader(\"AAPL\",'stooq',startdate, enddate)"
      ],
      "metadata": {
        "id": "GgnyTDPFCNLr"
      },
      "execution_count": 1,
      "outputs": []
    },
    {
      "cell_type": "code",
      "execution_count": 2,
      "metadata": {
        "id": "aqO46rRTApwi"
      },
      "outputs": [],
      "source": [
        "import pandas_datareader as pdr"
      ]
    },
    {
      "cell_type": "code",
      "source": [
        "df= pdr.get_data_stooq('AAPL')"
      ],
      "metadata": {
        "id": "losvDQ8EA_Z6"
      },
      "execution_count": 3,
      "outputs": []
    },
    {
      "cell_type": "code",
      "source": [
        "df.to_csv('AAPL.csv')"
      ],
      "metadata": {
        "id": "8fKDcuF4BJH_"
      },
      "execution_count": 4,
      "outputs": []
    },
    {
      "cell_type": "code",
      "source": [
        "df=pd.read_csv('AAPL.csv')"
      ],
      "metadata": {
        "id": "Xm2MCm0RDYs5"
      },
      "execution_count": 5,
      "outputs": []
    },
    {
      "cell_type": "code",
      "source": [
        "df.head()"
      ],
      "metadata": {
        "colab": {
          "base_uri": "https://localhost:8080/",
          "height": 206
        },
        "id": "ryuomtx3DdRl",
        "outputId": "a7ac5ec2-2b8d-48a3-bd0d-5e88bce41303"
      },
      "execution_count": 6,
      "outputs": [
        {
          "output_type": "execute_result",
          "data": {
            "text/plain": [
              "         Date     Open     High     Low   Close      Volume\n",
              "0  2023-01-27  143.155  147.230  143.08  145.93  70555843.0\n",
              "1  2023-01-26  143.170  144.250  141.90  143.96  54105068.0\n",
              "2  2023-01-25  140.890  142.430  138.81  141.86  65799349.0\n",
              "3  2023-01-24  140.305  143.160  140.30  142.53  66435142.0\n",
              "4  2023-01-23  138.120  143.315  137.90  141.11  81760313.0"
            ],
            "text/html": [
              "\n",
              "  <div id=\"df-7b60e0e9-97bf-4206-b63e-1c1dbc58f1ce\">\n",
              "    <div class=\"colab-df-container\">\n",
              "      <div>\n",
              "<style scoped>\n",
              "    .dataframe tbody tr th:only-of-type {\n",
              "        vertical-align: middle;\n",
              "    }\n",
              "\n",
              "    .dataframe tbody tr th {\n",
              "        vertical-align: top;\n",
              "    }\n",
              "\n",
              "    .dataframe thead th {\n",
              "        text-align: right;\n",
              "    }\n",
              "</style>\n",
              "<table border=\"1\" class=\"dataframe\">\n",
              "  <thead>\n",
              "    <tr style=\"text-align: right;\">\n",
              "      <th></th>\n",
              "      <th>Date</th>\n",
              "      <th>Open</th>\n",
              "      <th>High</th>\n",
              "      <th>Low</th>\n",
              "      <th>Close</th>\n",
              "      <th>Volume</th>\n",
              "    </tr>\n",
              "  </thead>\n",
              "  <tbody>\n",
              "    <tr>\n",
              "      <th>0</th>\n",
              "      <td>2023-01-27</td>\n",
              "      <td>143.155</td>\n",
              "      <td>147.230</td>\n",
              "      <td>143.08</td>\n",
              "      <td>145.93</td>\n",
              "      <td>70555843.0</td>\n",
              "    </tr>\n",
              "    <tr>\n",
              "      <th>1</th>\n",
              "      <td>2023-01-26</td>\n",
              "      <td>143.170</td>\n",
              "      <td>144.250</td>\n",
              "      <td>141.90</td>\n",
              "      <td>143.96</td>\n",
              "      <td>54105068.0</td>\n",
              "    </tr>\n",
              "    <tr>\n",
              "      <th>2</th>\n",
              "      <td>2023-01-25</td>\n",
              "      <td>140.890</td>\n",
              "      <td>142.430</td>\n",
              "      <td>138.81</td>\n",
              "      <td>141.86</td>\n",
              "      <td>65799349.0</td>\n",
              "    </tr>\n",
              "    <tr>\n",
              "      <th>3</th>\n",
              "      <td>2023-01-24</td>\n",
              "      <td>140.305</td>\n",
              "      <td>143.160</td>\n",
              "      <td>140.30</td>\n",
              "      <td>142.53</td>\n",
              "      <td>66435142.0</td>\n",
              "    </tr>\n",
              "    <tr>\n",
              "      <th>4</th>\n",
              "      <td>2023-01-23</td>\n",
              "      <td>138.120</td>\n",
              "      <td>143.315</td>\n",
              "      <td>137.90</td>\n",
              "      <td>141.11</td>\n",
              "      <td>81760313.0</td>\n",
              "    </tr>\n",
              "  </tbody>\n",
              "</table>\n",
              "</div>\n",
              "      <button class=\"colab-df-convert\" onclick=\"convertToInteractive('df-7b60e0e9-97bf-4206-b63e-1c1dbc58f1ce')\"\n",
              "              title=\"Convert this dataframe to an interactive table.\"\n",
              "              style=\"display:none;\">\n",
              "        \n",
              "  <svg xmlns=\"http://www.w3.org/2000/svg\" height=\"24px\"viewBox=\"0 0 24 24\"\n",
              "       width=\"24px\">\n",
              "    <path d=\"M0 0h24v24H0V0z\" fill=\"none\"/>\n",
              "    <path d=\"M18.56 5.44l.94 2.06.94-2.06 2.06-.94-2.06-.94-.94-2.06-.94 2.06-2.06.94zm-11 1L8.5 8.5l.94-2.06 2.06-.94-2.06-.94L8.5 2.5l-.94 2.06-2.06.94zm10 10l.94 2.06.94-2.06 2.06-.94-2.06-.94-.94-2.06-.94 2.06-2.06.94z\"/><path d=\"M17.41 7.96l-1.37-1.37c-.4-.4-.92-.59-1.43-.59-.52 0-1.04.2-1.43.59L10.3 9.45l-7.72 7.72c-.78.78-.78 2.05 0 2.83L4 21.41c.39.39.9.59 1.41.59.51 0 1.02-.2 1.41-.59l7.78-7.78 2.81-2.81c.8-.78.8-2.07 0-2.86zM5.41 20L4 18.59l7.72-7.72 1.47 1.35L5.41 20z\"/>\n",
              "  </svg>\n",
              "      </button>\n",
              "      \n",
              "  <style>\n",
              "    .colab-df-container {\n",
              "      display:flex;\n",
              "      flex-wrap:wrap;\n",
              "      gap: 12px;\n",
              "    }\n",
              "\n",
              "    .colab-df-convert {\n",
              "      background-color: #E8F0FE;\n",
              "      border: none;\n",
              "      border-radius: 50%;\n",
              "      cursor: pointer;\n",
              "      display: none;\n",
              "      fill: #1967D2;\n",
              "      height: 32px;\n",
              "      padding: 0 0 0 0;\n",
              "      width: 32px;\n",
              "    }\n",
              "\n",
              "    .colab-df-convert:hover {\n",
              "      background-color: #E2EBFA;\n",
              "      box-shadow: 0px 1px 2px rgba(60, 64, 67, 0.3), 0px 1px 3px 1px rgba(60, 64, 67, 0.15);\n",
              "      fill: #174EA6;\n",
              "    }\n",
              "\n",
              "    [theme=dark] .colab-df-convert {\n",
              "      background-color: #3B4455;\n",
              "      fill: #D2E3FC;\n",
              "    }\n",
              "\n",
              "    [theme=dark] .colab-df-convert:hover {\n",
              "      background-color: #434B5C;\n",
              "      box-shadow: 0px 1px 3px 1px rgba(0, 0, 0, 0.15);\n",
              "      filter: drop-shadow(0px 1px 2px rgba(0, 0, 0, 0.3));\n",
              "      fill: #FFFFFF;\n",
              "    }\n",
              "  </style>\n",
              "\n",
              "      <script>\n",
              "        const buttonEl =\n",
              "          document.querySelector('#df-7b60e0e9-97bf-4206-b63e-1c1dbc58f1ce button.colab-df-convert');\n",
              "        buttonEl.style.display =\n",
              "          google.colab.kernel.accessAllowed ? 'block' : 'none';\n",
              "\n",
              "        async function convertToInteractive(key) {\n",
              "          const element = document.querySelector('#df-7b60e0e9-97bf-4206-b63e-1c1dbc58f1ce');\n",
              "          const dataTable =\n",
              "            await google.colab.kernel.invokeFunction('convertToInteractive',\n",
              "                                                     [key], {});\n",
              "          if (!dataTable) return;\n",
              "\n",
              "          const docLinkHtml = 'Like what you see? Visit the ' +\n",
              "            '<a target=\"_blank\" href=https://colab.research.google.com/notebooks/data_table.ipynb>data table notebook</a>'\n",
              "            + ' to learn more about interactive tables.';\n",
              "          element.innerHTML = '';\n",
              "          dataTable['output_type'] = 'display_data';\n",
              "          await google.colab.output.renderOutput(dataTable, element);\n",
              "          const docLink = document.createElement('div');\n",
              "          docLink.innerHTML = docLinkHtml;\n",
              "          element.appendChild(docLink);\n",
              "        }\n",
              "      </script>\n",
              "    </div>\n",
              "  </div>\n",
              "  "
            ]
          },
          "metadata": {},
          "execution_count": 6
        }
      ]
    },
    {
      "cell_type": "code",
      "source": [
        "df.tail()"
      ],
      "metadata": {
        "colab": {
          "base_uri": "https://localhost:8080/",
          "height": 206
        },
        "id": "JjNC9Z5aDu0D",
        "outputId": "07d32811-b4f6-44d1-f364-ddd9831ea7eb"
      },
      "execution_count": 7,
      "outputs": [
        {
          "output_type": "execute_result",
          "data": {
            "text/plain": [
              "            Date     Open     High      Low    Close        Volume\n",
              "1253  2018-02-05  37.8177  38.9522  37.0819  37.1975  3.038998e+08\n",
              "1254  2018-02-02  39.4636  39.6500  38.0599  38.1546  3.616853e+08\n",
              "1255  2018-02-01  39.7418  40.0887  39.6400  39.8833  1.931809e+08\n",
              "1256  2018-01-31  39.6670  40.0479  39.5753  39.8036  1.357604e+08\n",
              "1257  2018-01-30  39.3519  39.7886  39.1526  39.6930  1.922561e+08"
            ],
            "text/html": [
              "\n",
              "  <div id=\"df-84fee7cf-2c6a-404d-b267-18631cf8989a\">\n",
              "    <div class=\"colab-df-container\">\n",
              "      <div>\n",
              "<style scoped>\n",
              "    .dataframe tbody tr th:only-of-type {\n",
              "        vertical-align: middle;\n",
              "    }\n",
              "\n",
              "    .dataframe tbody tr th {\n",
              "        vertical-align: top;\n",
              "    }\n",
              "\n",
              "    .dataframe thead th {\n",
              "        text-align: right;\n",
              "    }\n",
              "</style>\n",
              "<table border=\"1\" class=\"dataframe\">\n",
              "  <thead>\n",
              "    <tr style=\"text-align: right;\">\n",
              "      <th></th>\n",
              "      <th>Date</th>\n",
              "      <th>Open</th>\n",
              "      <th>High</th>\n",
              "      <th>Low</th>\n",
              "      <th>Close</th>\n",
              "      <th>Volume</th>\n",
              "    </tr>\n",
              "  </thead>\n",
              "  <tbody>\n",
              "    <tr>\n",
              "      <th>1253</th>\n",
              "      <td>2018-02-05</td>\n",
              "      <td>37.8177</td>\n",
              "      <td>38.9522</td>\n",
              "      <td>37.0819</td>\n",
              "      <td>37.1975</td>\n",
              "      <td>3.038998e+08</td>\n",
              "    </tr>\n",
              "    <tr>\n",
              "      <th>1254</th>\n",
              "      <td>2018-02-02</td>\n",
              "      <td>39.4636</td>\n",
              "      <td>39.6500</td>\n",
              "      <td>38.0599</td>\n",
              "      <td>38.1546</td>\n",
              "      <td>3.616853e+08</td>\n",
              "    </tr>\n",
              "    <tr>\n",
              "      <th>1255</th>\n",
              "      <td>2018-02-01</td>\n",
              "      <td>39.7418</td>\n",
              "      <td>40.0887</td>\n",
              "      <td>39.6400</td>\n",
              "      <td>39.8833</td>\n",
              "      <td>1.931809e+08</td>\n",
              "    </tr>\n",
              "    <tr>\n",
              "      <th>1256</th>\n",
              "      <td>2018-01-31</td>\n",
              "      <td>39.6670</td>\n",
              "      <td>40.0479</td>\n",
              "      <td>39.5753</td>\n",
              "      <td>39.8036</td>\n",
              "      <td>1.357604e+08</td>\n",
              "    </tr>\n",
              "    <tr>\n",
              "      <th>1257</th>\n",
              "      <td>2018-01-30</td>\n",
              "      <td>39.3519</td>\n",
              "      <td>39.7886</td>\n",
              "      <td>39.1526</td>\n",
              "      <td>39.6930</td>\n",
              "      <td>1.922561e+08</td>\n",
              "    </tr>\n",
              "  </tbody>\n",
              "</table>\n",
              "</div>\n",
              "      <button class=\"colab-df-convert\" onclick=\"convertToInteractive('df-84fee7cf-2c6a-404d-b267-18631cf8989a')\"\n",
              "              title=\"Convert this dataframe to an interactive table.\"\n",
              "              style=\"display:none;\">\n",
              "        \n",
              "  <svg xmlns=\"http://www.w3.org/2000/svg\" height=\"24px\"viewBox=\"0 0 24 24\"\n",
              "       width=\"24px\">\n",
              "    <path d=\"M0 0h24v24H0V0z\" fill=\"none\"/>\n",
              "    <path d=\"M18.56 5.44l.94 2.06.94-2.06 2.06-.94-2.06-.94-.94-2.06-.94 2.06-2.06.94zm-11 1L8.5 8.5l.94-2.06 2.06-.94-2.06-.94L8.5 2.5l-.94 2.06-2.06.94zm10 10l.94 2.06.94-2.06 2.06-.94-2.06-.94-.94-2.06-.94 2.06-2.06.94z\"/><path d=\"M17.41 7.96l-1.37-1.37c-.4-.4-.92-.59-1.43-.59-.52 0-1.04.2-1.43.59L10.3 9.45l-7.72 7.72c-.78.78-.78 2.05 0 2.83L4 21.41c.39.39.9.59 1.41.59.51 0 1.02-.2 1.41-.59l7.78-7.78 2.81-2.81c.8-.78.8-2.07 0-2.86zM5.41 20L4 18.59l7.72-7.72 1.47 1.35L5.41 20z\"/>\n",
              "  </svg>\n",
              "      </button>\n",
              "      \n",
              "  <style>\n",
              "    .colab-df-container {\n",
              "      display:flex;\n",
              "      flex-wrap:wrap;\n",
              "      gap: 12px;\n",
              "    }\n",
              "\n",
              "    .colab-df-convert {\n",
              "      background-color: #E8F0FE;\n",
              "      border: none;\n",
              "      border-radius: 50%;\n",
              "      cursor: pointer;\n",
              "      display: none;\n",
              "      fill: #1967D2;\n",
              "      height: 32px;\n",
              "      padding: 0 0 0 0;\n",
              "      width: 32px;\n",
              "    }\n",
              "\n",
              "    .colab-df-convert:hover {\n",
              "      background-color: #E2EBFA;\n",
              "      box-shadow: 0px 1px 2px rgba(60, 64, 67, 0.3), 0px 1px 3px 1px rgba(60, 64, 67, 0.15);\n",
              "      fill: #174EA6;\n",
              "    }\n",
              "\n",
              "    [theme=dark] .colab-df-convert {\n",
              "      background-color: #3B4455;\n",
              "      fill: #D2E3FC;\n",
              "    }\n",
              "\n",
              "    [theme=dark] .colab-df-convert:hover {\n",
              "      background-color: #434B5C;\n",
              "      box-shadow: 0px 1px 3px 1px rgba(0, 0, 0, 0.15);\n",
              "      filter: drop-shadow(0px 1px 2px rgba(0, 0, 0, 0.3));\n",
              "      fill: #FFFFFF;\n",
              "    }\n",
              "  </style>\n",
              "\n",
              "      <script>\n",
              "        const buttonEl =\n",
              "          document.querySelector('#df-84fee7cf-2c6a-404d-b267-18631cf8989a button.colab-df-convert');\n",
              "        buttonEl.style.display =\n",
              "          google.colab.kernel.accessAllowed ? 'block' : 'none';\n",
              "\n",
              "        async function convertToInteractive(key) {\n",
              "          const element = document.querySelector('#df-84fee7cf-2c6a-404d-b267-18631cf8989a');\n",
              "          const dataTable =\n",
              "            await google.colab.kernel.invokeFunction('convertToInteractive',\n",
              "                                                     [key], {});\n",
              "          if (!dataTable) return;\n",
              "\n",
              "          const docLinkHtml = 'Like what you see? Visit the ' +\n",
              "            '<a target=\"_blank\" href=https://colab.research.google.com/notebooks/data_table.ipynb>data table notebook</a>'\n",
              "            + ' to learn more about interactive tables.';\n",
              "          element.innerHTML = '';\n",
              "          dataTable['output_type'] = 'display_data';\n",
              "          await google.colab.output.renderOutput(dataTable, element);\n",
              "          const docLink = document.createElement('div');\n",
              "          docLink.innerHTML = docLinkHtml;\n",
              "          element.appendChild(docLink);\n",
              "        }\n",
              "      </script>\n",
              "    </div>\n",
              "  </div>\n",
              "  "
            ]
          },
          "metadata": {},
          "execution_count": 7
        }
      ]
    },
    {
      "cell_type": "code",
      "source": [
        "df.shape"
      ],
      "metadata": {
        "colab": {
          "base_uri": "https://localhost:8080/"
        },
        "id": "Dk7G9_CfDf5x",
        "outputId": "30284ddf-36ab-4c67-e0ca-5073fa479eb2"
      },
      "execution_count": 8,
      "outputs": [
        {
          "output_type": "execute_result",
          "data": {
            "text/plain": [
              "(1258, 6)"
            ]
          },
          "metadata": {},
          "execution_count": 8
        }
      ]
    },
    {
      "cell_type": "code",
      "source": [
        "df2 = df.reset_index()['Close']"
      ],
      "metadata": {
        "id": "HWt8QWt5DhvF"
      },
      "execution_count": 9,
      "outputs": []
    },
    {
      "cell_type": "code",
      "source": [
        "df2.shape"
      ],
      "metadata": {
        "colab": {
          "base_uri": "https://localhost:8080/"
        },
        "id": "pqR_pV_tDoh0",
        "outputId": "6584e63f-ec43-4ccb-9095-29d1241eac1e"
      },
      "execution_count": 10,
      "outputs": [
        {
          "output_type": "execute_result",
          "data": {
            "text/plain": [
              "(1258,)"
            ]
          },
          "metadata": {},
          "execution_count": 10
        }
      ]
    },
    {
      "cell_type": "code",
      "source": [
        "import matplotlib.pyplot as plt"
      ],
      "metadata": {
        "id": "G5HgMcWVDpr5"
      },
      "execution_count": 11,
      "outputs": []
    },
    {
      "cell_type": "code",
      "source": [
        "plt.plot(df2)"
      ],
      "metadata": {
        "colab": {
          "base_uri": "https://localhost:8080/",
          "height": 282
        },
        "id": "ljNrkmYlEAOM",
        "outputId": "a215a255-fd61-4e21-a71d-e7a96faadf67"
      },
      "execution_count": 12,
      "outputs": [
        {
          "output_type": "execute_result",
          "data": {
            "text/plain": [
              "[<matplotlib.lines.Line2D at 0x7fc4f3633220>]"
            ]
          },
          "metadata": {},
          "execution_count": 12
        },
        {
          "output_type": "display_data",
          "data": {
            "text/plain": [
              "<Figure size 432x288 with 1 Axes>"
            ],
            "image/png": "[encoded data removed]"
          },
          "metadata": {
            "needs_background": "light"
          }
        }
      ]
    },
    {
      "cell_type": "code",
      "source": [
        "plt.plot(df2[1208:])"
      ],
      "metadata": {
        "colab": {
          "base_uri": "https://localhost:8080/",
          "height": 282
        },
        "id": "JkbHVmqDY2Ju",
        "outputId": "c81a1be6-264b-440f-ea9a-ee85feaaf391"
      },
      "execution_count": 13,
      "outputs": [
        {
          "output_type": "execute_result",
          "data": {
            "text/plain": [
              "[<matplotlib.lines.Line2D at 0x7fc4f3106250>]"
            ]
          },
          "metadata": {},
          "execution_count": 13
        },
        {
          "output_type": "display_data",
          "data": {
            "text/plain": [
              "<Figure size 432x288 with 1 Axes>"
            ],
            "image/png": "[encoded data removed]"
          },
          "metadata": {
            "needs_background": "light"
          }
        }
      ]
    },
    {
      "cell_type": "code",
      "source": [
        "## LSTM are sensitive to the scale of data, so we apply Minmax scaler\n",
        "\n",
        "from sklearn.preprocessing import MinMaxScaler\n",
        "scaler = MinMaxScaler(feature_range=(0,1))\n",
        "df2= scaler.fit_transform(np.array(df2).reshape(-1,1))"
      ],
      "metadata": {
        "id": "xOuLqAnSECOV"
      },
      "execution_count": 14,
      "outputs": []
    },
    {
      "cell_type": "code",
      "source": [
        "df2.shape"
      ],
      "metadata": {
        "colab": {
          "base_uri": "https://localhost:8080/"
        },
        "id": "-898O9CrEs9H",
        "outputId": "539d39e2-155b-480f-e9a7-662f37296af0"
      },
      "execution_count": 15,
      "outputs": [
        {
          "output_type": "execute_result",
          "data": {
            "text/plain": [
              "(1258, 1)"
            ]
          },
          "metadata": {},
          "execution_count": 15
        }
      ]
    },
    {
      "cell_type": "code",
      "source": [
        "## splitting data into train and test\n",
        "training_size = int(len(df2)*.65)\n",
        "test_size = len(df2)-training_size\n",
        "train_data,test_data=df2[:training_size,:],df2[training_size:len(df2),:1]"
      ],
      "metadata": {
        "id": "_CNSEveQEt7n"
      },
      "execution_count": 16,
      "outputs": []
    },
    {
      "cell_type": "code",
      "source": [
        "train_data.shape"
      ],
      "metadata": {
        "colab": {
          "base_uri": "https://localhost:8080/"
        },
        "id": "CVLU-fC8GZVH",
        "outputId": "3f42ff39-dd82-4d96-8c44-72c73856859f"
      },
      "execution_count": 17,
      "outputs": [
        {
          "output_type": "execute_result",
          "data": {
            "text/plain": [
              "(817, 1)"
            ]
          },
          "metadata": {},
          "execution_count": 17
        }
      ]
    },
    {
      "cell_type": "code",
      "source": [
        "test_data.shape"
      ],
      "metadata": {
        "colab": {
          "base_uri": "https://localhost:8080/"
        },
        "id": "2URf0NUrGa-f",
        "outputId": "2a0b49e4-6e08-409b-b600-7d20038b25f5"
      },
      "execution_count": 18,
      "outputs": [
        {
          "output_type": "execute_result",
          "data": {
            "text/plain": [
              "(441, 1)"
            ]
          },
          "metadata": {},
          "execution_count": 18
        }
      ]
    },
    {
      "cell_type": "code",
      "source": [
        "def create_dataset (dataset,time_step=1):\n",
        "  dataX, dataY= [],[]\n",
        "  for i in range(len(dataset)-time_step-1):\n",
        "    a = dataset[i:(i+time_step),0]\n",
        "    dataX.append(a)\n",
        "    dataY.append(dataset[i+time_step,0])\n",
        "  return np.array(dataX), np.array(dataY)"
      ],
      "metadata": {
        "id": "NLIe5Y2CGcwt"
      },
      "execution_count": 19,
      "outputs": []
    },
    {
      "cell_type": "code",
      "source": [
        "time_step=100\n",
        "X_train,y_train= create_dataset(train_data,time_step)\n",
        "x_test, y_test = create_dataset(test_data,time_step)"
      ],
      "metadata": {
        "id": "Oz42DhxpIhSP"
      },
      "execution_count": 20,
      "outputs": []
    },
    {
      "cell_type": "code",
      "source": [
        "X_train"
      ],
      "metadata": {
        "colab": {
          "base_uri": "https://localhost:8080/"
        },
        "id": "baNXT3huIy3M",
        "outputId": "9e7b04f0-cce2-4a71-8000-3e634d8d6316"
      },
      "execution_count": 21,
      "outputs": [
        {
          "output_type": "execute_result",
          "data": {
            "text/plain": [
              "array([[0.7611433 , 0.74770983, 0.73338989, ..., 0.81756389, 0.82777879,\n",
              "        0.81804122],\n",
              "       [0.74770983, 0.73338989, 0.73795863, ..., 0.82777879, 0.81804122,\n",
              "        0.82675593],\n",
              "       [0.73338989, 0.73795863, 0.72827562, ..., 0.81804122, 0.82675593,\n",
              "        0.84138955],\n",
              "       ...,\n",
              "       [0.19261554, 0.18078659, 0.19868652, ..., 0.19933228, 0.1943694 ,\n",
              "        0.19417846],\n",
              "       [0.18078659, 0.19868652, 0.17707431, ..., 0.1943694 , 0.19417846,\n",
              "        0.19480445],\n",
              "       [0.19868652, 0.17707431, 0.17933209, ..., 0.19417846, 0.19480445,\n",
              "        0.19200388]])"
            ]
          },
          "metadata": {},
          "execution_count": 21
        }
      ]
    },
    {
      "cell_type": "code",
      "source": [
        "print(X_train.shape),print(y_train.shape)"
      ],
      "metadata": {
        "colab": {
          "base_uri": "https://localhost:8080/"
        },
        "id": "rKzF3KDiLe12",
        "outputId": "9346c036-abd2-48b2-944e-67e055061a07"
      },
      "execution_count": 22,
      "outputs": [
        {
          "output_type": "stream",
          "name": "stdout",
          "text": [
            "(716, 100)\n",
            "(716,)\n"
          ]
        },
        {
          "output_type": "execute_result",
          "data": {
            "text/plain": [
              "(None, None)"
            ]
          },
          "metadata": {},
          "execution_count": 22
        }
      ]
    },
    {
      "cell_type": "code",
      "source": [
        "print(x_test.shape),print(y_test.shape)"
      ],
      "metadata": {
        "colab": {
          "base_uri": "https://localhost:8080/"
        },
        "id": "TXlZ9nW1JP1O",
        "outputId": "950c7416-8e47-4eec-eeea-bab4bb4c4e1c"
      },
      "execution_count": 23,
      "outputs": [
        {
          "output_type": "stream",
          "name": "stdout",
          "text": [
            "(340, 100)\n",
            "(340,)\n"
          ]
        },
        {
          "output_type": "execute_result",
          "data": {
            "text/plain": [
              "(None, None)"
            ]
          },
          "metadata": {},
          "execution_count": 23
        }
      ]
    },
    {
      "cell_type": "code",
      "source": [
        "## reshape input to be 3 dim for LSTM (samples, time_step, features)\n",
        "X_train = X_train.reshape(X_train.shape[0],X_train.shape[1],1)\n",
        "x_test = x_test.reshape(x_test.shape[0],x_test.shape[1],1)"
      ],
      "metadata": {
        "id": "Fid9VhaSLbON"
      },
      "execution_count": 24,
      "outputs": []
    },
    {
      "cell_type": "code",
      "source": [
        "## creating LSTM model\n",
        "\n",
        "from tensorflow.keras.models import Sequential\n",
        "from tensorflow.keras.layers import Dense\n",
        "from tensorflow.keras.layers import LSTM"
      ],
      "metadata": {
        "id": "SCPNAmC0MnsO"
      },
      "execution_count": 25,
      "outputs": []
    },
    {
      "cell_type": "code",
      "source": [
        "model = Sequential()\n",
        "model.add(LSTM(50, return_sequences=True, input_shape=(100,1)))\n",
        "model.add(LSTM(50, return_sequences=True))\n",
        "model.add(LSTM(50))\n",
        "model.add(Dense(1))\n",
        "model.compile(loss='mean_squared_error',optimizer='adam')"
      ],
      "metadata": {
        "id": "jO7Ee27mM43w"
      },
      "execution_count": 26,
      "outputs": []
    },
    {
      "cell_type": "code",
      "source": [
        "model.summary()"
      ],
      "metadata": {
        "colab": {
          "base_uri": "https://localhost:8080/"
        },
        "id": "bdxoe8XkNgZ5",
        "outputId": "2336af16-ea1e-4db7-9548-bc52fa35dac7"
      },
      "execution_count": 27,
      "outputs": [
        {
          "output_type": "stream",
          "name": "stdout",
          "text": [
            "Model: \"sequential\"\n",
            "_________________________________________________________________\n",
            " Layer (type)                Output Shape              Param #   \n",
            "=================================================================\n",
            " lstm (LSTM)                 (None, 100, 50)           10400     \n",
            "                                                                 \n",
            " lstm_1 (LSTM)               (None, 100, 50)           20200     \n",
            "                                                                 \n",
            " lstm_2 (LSTM)               (None, 50)                20200     \n",
            "                                                                 \n",
            " dense (Dense)               (None, 1)                 51        \n",
            "                                                                 \n",
            "=================================================================\n",
            "Total params: 50,851\n",
            "Trainable params: 50,851\n",
            "Non-trainable params: 0\n",
            "_________________________________________________________________\n"
          ]
        }
      ]
    },
    {
      "cell_type": "code",
      "source": [
        "model.summary()"
      ],
      "metadata": {
        "colab": {
          "base_uri": "https://localhost:8080/"
        },
        "id": "T0hoV74HaUC3",
        "outputId": "544a6a4d-2021-4d05-d440-7fae96d4a33d"
      },
      "execution_count": 28,
      "outputs": [
        {
          "output_type": "stream",
          "name": "stdout",
          "text": [
            "Model: \"sequential\"\n",
            "_________________________________________________________________\n",
            " Layer (type)                Output Shape              Param #   \n",
            "=================================================================\n",
            " lstm (LSTM)                 (None, 100, 50)           10400     \n",
            "                                                                 \n",
            " lstm_1 (LSTM)               (None, 100, 50)           20200     \n",
            "                                                                 \n",
            " lstm_2 (LSTM)               (None, 50)                20200     \n",
            "                                                                 \n",
            " dense (Dense)               (None, 1)                 51        \n",
            "                                                                 \n",
            "=================================================================\n",
            "Total params: 50,851\n",
            "Trainable params: 50,851\n",
            "Non-trainable params: 0\n",
            "_________________________________________________________________\n"
          ]
        }
      ]
    },
    {
      "cell_type": "code",
      "source": [
        "model.fit(X_train,y_train,validation_data=(x_test,y_test),epochs=100,batch_size=64,verbose=1)"
      ],
      "metadata": {
        "colab": {
          "base_uri": "https://localhost:8080/"
        },
        "id": "6oxbsRuHOGq8",
        "outputId": "c9b1e427-c6e5-46c4-e684-09e83d6fe55f"
      },
      "execution_count": 29,
      "outputs": [
        {
          "output_type": "stream",
          "name": "stdout",
          "text": [
            "Epoch 1/100\n",
            "12/12 [==============================] - 16s 318ms/step - loss: 0.1745 - val_loss: 0.0294\n",
            "Epoch 2/100\n",
            "12/12 [==============================] - 2s 200ms/step - loss: 0.0187 - val_loss: 0.0267\n",
            "Epoch 3/100\n",
            "12/12 [==============================] - 2s 199ms/step - loss: 0.0110 - val_loss: 0.0102\n",
            "Epoch 4/100\n",
            "12/12 [==============================] - 2s 203ms/step - loss: 0.0065 - val_loss: 0.0059\n",
            "Epoch 5/100\n",
            "12/12 [==============================] - 2s 200ms/step - loss: 0.0038 - val_loss: 0.0014\n",
            "Epoch 6/100\n",
            "12/12 [==============================] - 2s 197ms/step - loss: 0.0029 - val_loss: 3.1101e-04\n",
            "Epoch 7/100\n",
            "12/12 [==============================] - 2s 198ms/step - loss: 0.0026 - val_loss: 3.5619e-04\n",
            "Epoch 8/100\n",
            "12/12 [==============================] - 2s 203ms/step - loss: 0.0025 - val_loss: 3.0429e-04\n",
            "Epoch 9/100\n",
            "12/12 [==============================] - 2s 199ms/step - loss: 0.0024 - val_loss: 2.9810e-04\n",
            "Epoch 10/100\n",
            "12/12 [==============================] - 2s 200ms/step - loss: 0.0024 - val_loss: 3.3533e-04\n",
            "Epoch 11/100\n",
            "12/12 [==============================] - 2s 202ms/step - loss: 0.0023 - val_loss: 3.3010e-04\n",
            "Epoch 12/100\n",
            "12/12 [==============================] - 2s 195ms/step - loss: 0.0023 - val_loss: 3.1919e-04\n",
            "Epoch 13/100\n",
            "12/12 [==============================] - 2s 202ms/step - loss: 0.0023 - val_loss: 3.5435e-04\n",
            "Epoch 14/100\n",
            "12/12 [==============================] - 2s 198ms/step - loss: 0.0023 - val_loss: 3.0517e-04\n",
            "Epoch 15/100\n",
            "12/12 [==============================] - 2s 197ms/step - loss: 0.0022 - val_loss: 3.4534e-04\n",
            "Epoch 16/100\n",
            "12/12 [==============================] - 2s 199ms/step - loss: 0.0022 - val_loss: 4.5038e-04\n",
            "Epoch 17/100\n",
            "12/12 [==============================] - 2s 201ms/step - loss: 0.0023 - val_loss: 4.4640e-04\n",
            "Epoch 18/100\n",
            "12/12 [==============================] - 2s 201ms/step - loss: 0.0021 - val_loss: 4.1483e-04\n",
            "Epoch 19/100\n",
            "12/12 [==============================] - 2s 197ms/step - loss: 0.0021 - val_loss: 3.5091e-04\n",
            "Epoch 20/100\n",
            "12/12 [==============================] - 2s 198ms/step - loss: 0.0020 - val_loss: 3.6478e-04\n",
            "Epoch 21/100\n",
            "12/12 [==============================] - 2s 199ms/step - loss: 0.0020 - val_loss: 3.4921e-04\n",
            "Epoch 22/100\n",
            "12/12 [==============================] - 2s 200ms/step - loss: 0.0020 - val_loss: 4.6934e-04\n",
            "Epoch 23/100\n",
            "12/12 [==============================] - 2s 198ms/step - loss: 0.0020 - val_loss: 4.1042e-04\n",
            "Epoch 24/100\n",
            "12/12 [==============================] - 2s 198ms/step - loss: 0.0022 - val_loss: 3.4149e-04\n",
            "Epoch 25/100\n",
            "12/12 [==============================] - 3s 273ms/step - loss: 0.0021 - val_loss: 4.3821e-04\n",
            "Epoch 26/100\n",
            "12/12 [==============================] - 2s 205ms/step - loss: 0.0020 - val_loss: 3.0675e-04\n",
            "Epoch 27/100\n",
            "12/12 [==============================] - 2s 205ms/step - loss: 0.0019 - val_loss: 3.5125e-04\n",
            "Epoch 28/100\n",
            "12/12 [==============================] - 2s 198ms/step - loss: 0.0019 - val_loss: 3.4309e-04\n",
            "Epoch 29/100\n",
            "12/12 [==============================] - 2s 201ms/step - loss: 0.0018 - val_loss: 2.9403e-04\n",
            "Epoch 30/100\n",
            "12/12 [==============================] - 2s 201ms/step - loss: 0.0017 - val_loss: 3.7686e-04\n",
            "Epoch 31/100\n",
            "12/12 [==============================] - 2s 198ms/step - loss: 0.0020 - val_loss: 2.4822e-04\n",
            "Epoch 32/100\n",
            "12/12 [==============================] - 2s 199ms/step - loss: 0.0017 - val_loss: 3.4945e-04\n",
            "Epoch 33/100\n",
            "12/12 [==============================] - 2s 200ms/step - loss: 0.0018 - val_loss: 2.3988e-04\n",
            "Epoch 34/100\n",
            "12/12 [==============================] - 2s 199ms/step - loss: 0.0018 - val_loss: 3.0839e-04\n",
            "Epoch 35/100\n",
            "12/12 [==============================] - 2s 199ms/step - loss: 0.0017 - val_loss: 2.8506e-04\n",
            "Epoch 36/100\n",
            "12/12 [==============================] - 2s 196ms/step - loss: 0.0017 - val_loss: 2.9560e-04\n",
            "Epoch 37/100\n",
            "12/12 [==============================] - 2s 198ms/step - loss: 0.0017 - val_loss: 2.8175e-04\n",
            "Epoch 38/100\n",
            "12/12 [==============================] - 2s 197ms/step - loss: 0.0022 - val_loss: 2.1539e-04\n",
            "Epoch 39/100\n",
            "12/12 [==============================] - 2s 206ms/step - loss: 0.0019 - val_loss: 3.7100e-04\n",
            "Epoch 40/100\n",
            "12/12 [==============================] - 2s 201ms/step - loss: 0.0017 - val_loss: 2.0897e-04\n",
            "Epoch 41/100\n",
            "12/12 [==============================] - 2s 198ms/step - loss: 0.0021 - val_loss: 2.8285e-04\n",
            "Epoch 42/100\n",
            "12/12 [==============================] - 2s 199ms/step - loss: 0.0019 - val_loss: 2.1282e-04\n",
            "Epoch 43/100\n",
            "12/12 [==============================] - 3s 246ms/step - loss: 0.0015 - val_loss: 2.3567e-04\n",
            "Epoch 44/100\n",
            "12/12 [==============================] - 3s 298ms/step - loss: 0.0015 - val_loss: 2.1098e-04\n",
            "Epoch 45/100\n",
            "12/12 [==============================] - 2s 202ms/step - loss: 0.0014 - val_loss: 2.0726e-04\n",
            "Epoch 46/100\n",
            "12/12 [==============================] - 2s 197ms/step - loss: 0.0013 - val_loss: 2.4242e-04\n",
            "Epoch 47/100\n",
            "12/12 [==============================] - 2s 196ms/step - loss: 0.0014 - val_loss: 2.6534e-04\n",
            "Epoch 48/100\n",
            "12/12 [==============================] - 2s 203ms/step - loss: 0.0015 - val_loss: 1.9966e-04\n",
            "Epoch 49/100\n",
            "12/12 [==============================] - 2s 197ms/step - loss: 0.0013 - val_loss: 2.0005e-04\n",
            "Epoch 50/100\n",
            "12/12 [==============================] - 2s 198ms/step - loss: 0.0013 - val_loss: 2.0164e-04\n",
            "Epoch 51/100\n",
            "12/12 [==============================] - 2s 201ms/step - loss: 0.0014 - val_loss: 3.3031e-04\n",
            "Epoch 52/100\n",
            "12/12 [==============================] - 2s 203ms/step - loss: 0.0013 - val_loss: 2.2574e-04\n",
            "Epoch 53/100\n",
            "12/12 [==============================] - 2s 202ms/step - loss: 0.0012 - val_loss: 3.2016e-04\n",
            "Epoch 54/100\n",
            "12/12 [==============================] - 4s 331ms/step - loss: 0.0013 - val_loss: 2.4784e-04\n",
            "Epoch 55/100\n",
            "12/12 [==============================] - 5s 405ms/step - loss: 0.0013 - val_loss: 2.1380e-04\n",
            "Epoch 56/100\n",
            "12/12 [==============================] - 5s 395ms/step - loss: 0.0012 - val_loss: 2.1679e-04\n",
            "Epoch 57/100\n",
            "12/12 [==============================] - 5s 431ms/step - loss: 0.0012 - val_loss: 2.5985e-04\n",
            "Epoch 58/100\n",
            "12/12 [==============================] - 3s 257ms/step - loss: 0.0013 - val_loss: 2.4983e-04\n",
            "Epoch 59/100\n",
            "12/12 [==============================] - 2s 199ms/step - loss: 0.0012 - val_loss: 2.4224e-04\n",
            "Epoch 60/100\n",
            "12/12 [==============================] - 2s 200ms/step - loss: 0.0011 - val_loss: 2.6457e-04\n",
            "Epoch 61/100\n",
            "12/12 [==============================] - 2s 198ms/step - loss: 0.0011 - val_loss: 3.2611e-04\n",
            "Epoch 62/100\n",
            "12/12 [==============================] - 2s 200ms/step - loss: 0.0012 - val_loss: 2.2184e-04\n",
            "Epoch 63/100\n",
            "12/12 [==============================] - 2s 199ms/step - loss: 0.0011 - val_loss: 2.4308e-04\n",
            "Epoch 64/100\n",
            "12/12 [==============================] - 2s 198ms/step - loss: 0.0011 - val_loss: 3.0337e-04\n",
            "Epoch 65/100\n",
            "12/12 [==============================] - 2s 201ms/step - loss: 0.0012 - val_loss: 2.6751e-04\n",
            "Epoch 66/100\n",
            "12/12 [==============================] - 2s 208ms/step - loss: 0.0011 - val_loss: 3.1653e-04\n",
            "Epoch 67/100\n",
            "12/12 [==============================] - 2s 202ms/step - loss: 0.0011 - val_loss: 2.7950e-04\n",
            "Epoch 68/100\n",
            "12/12 [==============================] - 2s 201ms/step - loss: 0.0010 - val_loss: 2.3702e-04\n",
            "Epoch 69/100\n",
            "12/12 [==============================] - 2s 204ms/step - loss: 9.7322e-04 - val_loss: 2.6464e-04\n",
            "Epoch 70/100\n",
            "12/12 [==============================] - 2s 205ms/step - loss: 9.4300e-04 - val_loss: 2.6635e-04\n",
            "Epoch 71/100\n",
            "12/12 [==============================] - 2s 201ms/step - loss: 0.0010 - val_loss: 3.9443e-04\n",
            "Epoch 72/100\n",
            "12/12 [==============================] - 2s 203ms/step - loss: 0.0011 - val_loss: 3.6127e-04\n",
            "Epoch 73/100\n",
            "12/12 [==============================] - 2s 203ms/step - loss: 0.0010 - val_loss: 2.9144e-04\n",
            "Epoch 74/100\n",
            "12/12 [==============================] - 2s 204ms/step - loss: 9.1554e-04 - val_loss: 2.5947e-04\n",
            "Epoch 75/100\n",
            "12/12 [==============================] - 2s 204ms/step - loss: 8.8199e-04 - val_loss: 3.0152e-04\n",
            "Epoch 76/100\n",
            "12/12 [==============================] - 2s 203ms/step - loss: 8.9743e-04 - val_loss: 2.7368e-04\n",
            "Epoch 77/100\n",
            "12/12 [==============================] - 2s 199ms/step - loss: 8.7196e-04 - val_loss: 3.1729e-04\n",
            "Epoch 78/100\n",
            "12/12 [==============================] - 2s 197ms/step - loss: 8.7180e-04 - val_loss: 3.1599e-04\n",
            "Epoch 79/100\n",
            "12/12 [==============================] - 2s 204ms/step - loss: 0.0012 - val_loss: 4.0348e-04\n",
            "Epoch 80/100\n",
            "12/12 [==============================] - 2s 199ms/step - loss: 9.1029e-04 - val_loss: 3.6230e-04\n",
            "Epoch 81/100\n",
            "12/12 [==============================] - 2s 200ms/step - loss: 8.7253e-04 - val_loss: 3.6402e-04\n",
            "Epoch 82/100\n",
            "12/12 [==============================] - 2s 200ms/step - loss: 8.0384e-04 - val_loss: 2.8182e-04\n",
            "Epoch 83/100\n",
            "12/12 [==============================] - 2s 201ms/step - loss: 7.9743e-04 - val_loss: 2.9200e-04\n",
            "Epoch 84/100\n",
            "12/12 [==============================] - 2s 201ms/step - loss: 7.7313e-04 - val_loss: 2.6337e-04\n",
            "Epoch 85/100\n",
            "12/12 [==============================] - 2s 203ms/step - loss: 7.9192e-04 - val_loss: 3.3696e-04\n",
            "Epoch 86/100\n",
            "12/12 [==============================] - 2s 199ms/step - loss: 7.5496e-04 - val_loss: 2.9530e-04\n",
            "Epoch 87/100\n",
            "12/12 [==============================] - 2s 202ms/step - loss: 7.4935e-04 - val_loss: 2.5348e-04\n",
            "Epoch 88/100\n",
            "12/12 [==============================] - 2s 205ms/step - loss: 8.0116e-04 - val_loss: 4.3454e-04\n",
            "Epoch 89/100\n",
            "12/12 [==============================] - 2s 199ms/step - loss: 9.2713e-04 - val_loss: 3.7825e-04\n",
            "Epoch 90/100\n",
            "12/12 [==============================] - 2s 201ms/step - loss: 8.3933e-04 - val_loss: 4.1040e-04\n",
            "Epoch 91/100\n",
            "12/12 [==============================] - 2s 203ms/step - loss: 8.0719e-04 - val_loss: 3.1869e-04\n",
            "Epoch 92/100\n",
            "12/12 [==============================] - 4s 335ms/step - loss: 7.5068e-04 - val_loss: 3.6484e-04\n",
            "Epoch 93/100\n",
            "12/12 [==============================] - 2s 204ms/step - loss: 8.1625e-04 - val_loss: 2.4441e-04\n",
            "Epoch 94/100\n",
            "12/12 [==============================] - 2s 201ms/step - loss: 7.4482e-04 - val_loss: 3.6973e-04\n",
            "Epoch 95/100\n",
            "12/12 [==============================] - 2s 200ms/step - loss: 7.1203e-04 - val_loss: 3.4951e-04\n",
            "Epoch 96/100\n",
            "12/12 [==============================] - 2s 208ms/step - loss: 8.8438e-04 - val_loss: 3.1013e-04\n",
            "Epoch 97/100\n",
            "12/12 [==============================] - 2s 203ms/step - loss: 8.0851e-04 - val_loss: 3.4704e-04\n",
            "Epoch 98/100\n",
            "12/12 [==============================] - 2s 201ms/step - loss: 6.8945e-04 - val_loss: 2.4412e-04\n",
            "Epoch 99/100\n",
            "12/12 [==============================] - 2s 203ms/step - loss: 8.0478e-04 - val_loss: 3.1010e-04\n",
            "Epoch 100/100\n",
            "12/12 [==============================] - 2s 204ms/step - loss: 6.2142e-04 - val_loss: 2.7562e-04\n"
          ]
        },
        {
          "output_type": "execute_result",
          "data": {
            "text/plain": [
              "<keras.callbacks.History at 0x7fc49097f6a0>"
            ]
          },
          "metadata": {},
          "execution_count": 29
        }
      ]
    },
    {
      "cell_type": "code",
      "source": [
        "## lets do prediction and check performance metrics\n",
        "\n",
        "train_predict = model.predict(X_train)\n",
        "test_predict = model.predict(x_test)"
      ],
      "metadata": {
        "colab": {
          "base_uri": "https://localhost:8080/"
        },
        "id": "SKyeSxhXOiGq",
        "outputId": "91a57c51-021b-4601-9bf1-e706673be166"
      },
      "execution_count": 30,
      "outputs": [
        {
          "output_type": "stream",
          "name": "stdout",
          "text": [
            "23/23 [==============================] - 2s 36ms/step\n",
            "11/11 [==============================] - 0s 37ms/step\n"
          ]
        }
      ]
    },
    {
      "cell_type": "code",
      "source": [
        "## transform in original form\n",
        "train_predict = scaler.inverse_transform(train_predict)\n",
        "test_predict = scaler.inverse_transform(test_predict)"
      ],
      "metadata": {
        "id": "oh9frkvVPXtB"
      },
      "execution_count": 31,
      "outputs": []
    },
    {
      "cell_type": "code",
      "source": [
        "## Train data RMSE\n",
        "import math\n",
        "from sklearn.metrics import mean_squared_error\n",
        "math.sqrt(mean_squared_error(y_train,train_predict))"
      ],
      "metadata": {
        "colab": {
          "base_uri": "https://localhost:8080/"
        },
        "id": "ieR5xdyxPpKh",
        "outputId": "5ee00296-ec47-474a-ca94-139f62a429db"
      },
      "execution_count": 32,
      "outputs": [
        {
          "output_type": "execute_result",
          "data": {
            "text/plain": [
              "127.75231436374034"
            ]
          },
          "metadata": {},
          "execution_count": 32
        }
      ]
    },
    {
      "cell_type": "code",
      "source": [
        "### test data RMSE\n",
        "math.sqrt(mean_squared_error(y_test,test_predict))"
      ],
      "metadata": {
        "colab": {
          "base_uri": "https://localhost:8080/"
        },
        "id": "y9i2qupXP7Nk",
        "outputId": "167ef417-5e6b-4e51-872c-102b42af74cd"
      },
      "execution_count": 33,
      "outputs": [
        {
          "output_type": "execute_result",
          "data": {
            "text/plain": [
              "46.92416635893337"
            ]
          },
          "metadata": {},
          "execution_count": 33
        }
      ]
    },
    {
      "cell_type": "code",
      "source": [
        "## plotting\n",
        "plt.figure(figsize=(24,12))\n",
        "# shift train predict for plotting\n",
        "look_back=100\n",
        "trainPredictplot= np.empty_like(df2)\n",
        "trainPredictplot[:,:]= np.nan\n",
        "trainPredictplot[look_back:len(train_predict)+look_back,:]= train_predict\n",
        "\n",
        "# shift test predict for plotting\n",
        "testPredictplot = np.empty_like(df2)\n",
        "testPredictplot[:,:] = np.nan\n",
        "testPredictplot[len(train_predict)+(look_back*2)+1: len(df2)-1,:]=test_predict\n",
        "\n",
        "# plot baseline and predictions\n",
        "plt.plot(scaler.inverse_transform(df2))\n",
        "plt.plot(trainPredictplot)\n",
        "plt.plot(testPredictplot)\n",
        "\n",
        "plt.show()\n"
      ],
      "metadata": {
        "colab": {
          "base_uri": "https://localhost:8080/",
          "height": 700
        },
        "id": "hXHOcu9_QGSo",
        "outputId": "e7904ed6-f420-4be1-f45e-a087b2e44392"
      },
      "execution_count": 34,
      "outputs": [
        {
          "output_type": "display_data",
          "data": {
            "text/plain": [
              "<Figure size 1728x864 with 1 Axes>"
            ],
            "image/png": "[encoded data removed]"
          },
          "metadata": {
            "needs_background": "light"
          }
        }
      ]
    },
    {
      "cell_type": "code",
      "source": [
        "## predicting next 30 days \n",
        "\n",
        "len(test_data)"
      ],
      "metadata": {
        "colab": {
          "base_uri": "https://localhost:8080/"
        },
        "id": "rJoEDQc2Rryn",
        "outputId": "22d356e8-367d-454a-c3c8-4e980698409d"
      },
      "execution_count": 49,
      "outputs": [
        {
          "output_type": "execute_result",
          "data": {
            "text/plain": [
              "441"
            ]
          },
          "metadata": {},
          "execution_count": 49
        }
      ]
    },
    {
      "cell_type": "code",
      "source": [
        "x_input = test_data[341:].reshape(1,-1)\n",
        "x_input.shape"
      ],
      "metadata": {
        "colab": {
          "base_uri": "https://localhost:8080/"
        },
        "id": "8bk3iCP6TNHM",
        "outputId": "b020588a-9a6e-452b-ff8c-77fc5cb2d002"
      },
      "execution_count": 52,
      "outputs": [
        {
          "output_type": "execute_result",
          "data": {
            "text/plain": [
              "(1, 100)"
            ]
          },
          "metadata": {},
          "execution_count": 52
        }
      ]
    },
    {
      "cell_type": "code",
      "source": [
        "x_input"
      ],
      "metadata": {
        "colab": {
          "base_uri": "https://localhost:8080/"
        },
        "id": "fen2-N-h7BLF",
        "outputId": "d6021e24-350f-4fda-b4be-b4571ff2a160"
      },
      "execution_count": 53,
      "outputs": [
        {
          "output_type": "execute_result",
          "data": {
            "text/plain": [
              "array([[0.06909101, 0.07075622, 0.06944424, 0.07444803, 0.07460351,\n",
              "        0.07782004, 0.07765638, 0.08017874, 0.07849922, 0.07928818,\n",
              "        0.0821433 , 0.08299977, 0.08189236, 0.07949138, 0.07688856,\n",
              "        0.07136788, 0.07240846, 0.07304059, 0.07417527, 0.073462  ,\n",
              "        0.07381523, 0.07186431, 0.07262531, 0.07045686, 0.07157245,\n",
              "        0.07351656, 0.07065393, 0.073462  , 0.07418891, 0.07534542,\n",
              "        0.07098738, 0.06888644, 0.0674183 , 0.06527645, 0.05393778,\n",
              "        0.05340726, 0.04129872, 0.035045  , 0.03025873, 0.0333457 ,\n",
              "        0.03240058, 0.03121066, 0.03501772, 0.03577259, 0.04730901,\n",
              "        0.05552116, 0.05618056, 0.05222416, 0.05046349, 0.0494645 ,\n",
              "        0.04672394, 0.04805706, 0.04282209, 0.04009585, 0.04730901,\n",
              "        0.04536422, 0.04011631, 0.03734233, 0.03915823, 0.0370232 ,\n",
              "        0.04002766, 0.04726128, 0.03454175, 0.04089095, 0.04479347,\n",
              "        0.0512995 , 0.05138133, 0.05582733, 0.05683382, 0.05649287,\n",
              "        0.05896749, 0.06180966, 0.05898113, 0.05401824, 0.05094628,\n",
              "        0.05356342, 0.05381504, 0.05284946, 0.05089854, 0.05599713,\n",
              "        0.05641922, 0.05735002, 0.05172092, 0.0468194 , 0.04446752,\n",
              "        0.04575223, 0.04670348, 0.04762814, 0.03847088, 0.03354891,\n",
              "        0.03085744, 0.02064663, 0.01756648, 0.02459553, 0.03032692,\n",
              "        0.01969402, 0.0262205 , 0.03800855, 0.03746507, 0.03671089]])"
            ]
          },
          "metadata": {},
          "execution_count": 53
        }
      ]
    },
    {
      "cell_type": "code",
      "source": [
        "temp_input = list(x_input)\n",
        "temp_input = temp_input[0].tolist()"
      ],
      "metadata": {
        "id": "w6xxSqUhTYFy"
      },
      "execution_count": 54,
      "outputs": []
    },
    {
      "cell_type": "code",
      "source": [
        "temp_input"
      ],
      "metadata": {
        "colab": {
          "base_uri": "https://localhost:8080/"
        },
        "id": "s1mvzZBf3Avp",
        "outputId": "49a12c54-5275-4898-8303-d10045d652f9"
      },
      "execution_count": 55,
      "outputs": [
        {
          "output_type": "execute_result",
          "data": {
            "text/plain": [
              "[0.06909101075632498,\n",
              " 0.07075621587931971,\n",
              " 0.06944423608544506,\n",
              " 0.07444803428058641,\n",
              " 0.07460350797757362,\n",
              " 0.0778200405595417,\n",
              " 0.07765638403639727,\n",
              " 0.08017874019936097,\n",
              " 0.07849921513059108,\n",
              " 0.07928817595258328,\n",
              " 0.08214330037927406,\n",
              " 0.08299976951706325,\n",
              " 0.08189236037711925,\n",
              " 0.07949138280215431,\n",
              " 0.0768885621819779,\n",
              " 0.07136788213457204,\n",
              " 0.07240846486089877,\n",
              " 0.07304058818154421,\n",
              " 0.074175273408679,\n",
              " 0.07346200372864117,\n",
              " 0.07381522905776125,\n",
              " 0.07186430692144355,\n",
              " 0.0726253097540652,\n",
              " 0.07045686082240135,\n",
              " 0.07157245278850263,\n",
              " 0.07351655590302261,\n",
              " 0.07065393055235439,\n",
              " 0.07346200372864117,\n",
              " 0.07418891145227438,\n",
              " 0.07534541754916177,\n",
              " 0.07098738071826124,\n",
              " 0.06888644010239445,\n",
              " 0.06741830470935287,\n",
              " 0.06527644996269996,\n",
              " 0.05393778051750922,\n",
              " 0.05340726062164933,\n",
              " 0.04129872361549994,\n",
              " 0.035044998724842985,\n",
              " 0.03025872732504778,\n",
              " 0.033345698492859815,\n",
              " 0.03240058207170063,\n",
              " 0.031210662768004632,\n",
              " 0.03501772263765221,\n",
              " 0.035772588350655915,\n",
              " 0.04730900942797958,\n",
              " 0.055521157378931735,\n",
              " 0.05618055678676784,\n",
              " 0.052224160339751,\n",
              " 0.050463488911588666,\n",
              " 0.04946450221822782,\n",
              " 0.04672393735773819,\n",
              " 0.04805705611918562,\n",
              " 0.04282209308510279,\n",
              " 0.040095848170388276,\n",
              " 0.04730900942797958,\n",
              " 0.045364224411279824,\n",
              " 0.04011630523578133,\n",
              " 0.03734232716848304,\n",
              " 0.03915823267320659,\n",
              " 0.03702319694835135,\n",
              " 0.04002765795241145,\n",
              " 0.04726127627539575,\n",
              " 0.034541754916173756,\n",
              " 0.040890946111998366,\n",
              " 0.044793472286813546,\n",
              " 0.051299500983984864,\n",
              " 0.05138132924555708,\n",
              " 0.05582733145764776,\n",
              " 0.05683381907498605,\n",
              " 0.05649286798510186,\n",
              " 0.058967490995481736,\n",
              " 0.06180965928075691,\n",
              " 0.058981129039077124,\n",
              " 0.05401824497472188,\n",
              " 0.05094627565486479,\n",
              " 0.05356341622081631,\n",
              " 0.0538150381251509,\n",
              " 0.052849464638598714,\n",
              " 0.05089854250228101,\n",
              " 0.05599712510041008,\n",
              " 0.056419222549686815,\n",
              " 0.05735001902507089,\n",
              " 0.05172091653108182,\n",
              " 0.046819403662905795,\n",
              " 0.04446752304488419,\n",
              " 0.045752226751568065,\n",
              " 0.04670348029234514,\n",
              " 0.04762813964811122,\n",
              " 0.03847087527599993,\n",
              " 0.03354890534243085,\n",
              " 0.030857437438884555,\n",
              " 0.020646634199030928,\n",
              " 0.017566482053016558,\n",
              " 0.024595529722070325,\n",
              " 0.030326917543024606,\n",
              " 0.019694016853894297,\n",
              " 0.026220502616458724,\n",
              " 0.038008545598116866,\n",
              " 0.03746506956084142,\n",
              " 0.03671088575001738]"
            ]
          },
          "metadata": {},
          "execution_count": 55
        }
      ]
    },
    {
      "cell_type": "code",
      "source": [
        "# demonstrate prediction for next 10 days\n",
        "from numpy import array\n",
        "\n",
        "lst_output=[]\n",
        "n_steps=100\n",
        "i=0\n",
        "while(i<30):\n",
        "    \n",
        "    if(len(temp_input)>100):\n",
        "        #print(temp_input)\n",
        "        x_input=np.array(temp_input[1:])\n",
        "        print(\"{} day input {}\".format(i,x_input))\n",
        "        x_input=x_input.reshape(1,-1)\n",
        "        x_input = x_input.reshape((1, n_steps, 1))\n",
        "        #print(x_input)\n",
        "        yhat = model.predict(x_input, verbose=0)\n",
        "        print(\"{} day output {}\".format(i,yhat))\n",
        "        temp_input.extend(yhat[0].tolist())\n",
        "        temp_input=temp_input[1:]\n",
        "        #print(temp_input)\n",
        "        lst_output.extend(yhat.tolist())\n",
        "        i=i+1\n",
        "    else:\n",
        "        x_input = x_input.reshape((1, n_steps,1))\n",
        "        yhat = model.predict(x_input, verbose=0)\n",
        "        print(yhat[0])\n",
        "        temp_input.extend(yhat[0].tolist())\n",
        "        print(len(temp_input))\n",
        "        lst_output.extend(yhat.tolist())\n",
        "        i=i+1\n",
        "    \n",
        "\n",
        "print(lst_output)"
      ],
      "metadata": {
        "colab": {
          "base_uri": "https://localhost:8080/"
        },
        "id": "ziTKczU53Xbc",
        "outputId": "4106a1fd-0a20-4990-b821-0fb83e2c008d"
      },
      "execution_count": 56,
      "outputs": [
        {
          "output_type": "stream",
          "name": "stdout",
          "text": [
            "[0.0449235]\n",
            "101\n",
            "1 day input [0.07075622 0.06944424 0.07444803 0.07460351 0.07782004 0.07765638\n",
            " 0.08017874 0.07849922 0.07928818 0.0821433  0.08299977 0.08189236\n",
            " 0.07949138 0.07688856 0.07136788 0.07240846 0.07304059 0.07417527\n",
            " 0.073462   0.07381523 0.07186431 0.07262531 0.07045686 0.07157245\n",
            " 0.07351656 0.07065393 0.073462   0.07418891 0.07534542 0.07098738\n",
            " 0.06888644 0.0674183  0.06527645 0.05393778 0.05340726 0.04129872\n",
            " 0.035045   0.03025873 0.0333457  0.03240058 0.03121066 0.03501772\n",
            " 0.03577259 0.04730901 0.05552116 0.05618056 0.05222416 0.05046349\n",
            " 0.0494645  0.04672394 0.04805706 0.04282209 0.04009585 0.04730901\n",
            " 0.04536422 0.04011631 0.03734233 0.03915823 0.0370232  0.04002766\n",
            " 0.04726128 0.03454175 0.04089095 0.04479347 0.0512995  0.05138133\n",
            " 0.05582733 0.05683382 0.05649287 0.05896749 0.06180966 0.05898113\n",
            " 0.05401824 0.05094628 0.05356342 0.05381504 0.05284946 0.05089854\n",
            " 0.05599713 0.05641922 0.05735002 0.05172092 0.0468194  0.04446752\n",
            " 0.04575223 0.04670348 0.04762814 0.03847088 0.03354891 0.03085744\n",
            " 0.02064663 0.01756648 0.02459553 0.03032692 0.01969402 0.0262205\n",
            " 0.03800855 0.03746507 0.03671089 0.0449235 ]\n",
            "1 day output [[0.04646428]]\n",
            "2 day input [0.06944424 0.07444803 0.07460351 0.07782004 0.07765638 0.08017874\n",
            " 0.07849922 0.07928818 0.0821433  0.08299977 0.08189236 0.07949138\n",
            " 0.07688856 0.07136788 0.07240846 0.07304059 0.07417527 0.073462\n",
            " 0.07381523 0.07186431 0.07262531 0.07045686 0.07157245 0.07351656\n",
            " 0.07065393 0.073462   0.07418891 0.07534542 0.07098738 0.06888644\n",
            " 0.0674183  0.06527645 0.05393778 0.05340726 0.04129872 0.035045\n",
            " 0.03025873 0.0333457  0.03240058 0.03121066 0.03501772 0.03577259\n",
            " 0.04730901 0.05552116 0.05618056 0.05222416 0.05046349 0.0494645\n",
            " 0.04672394 0.04805706 0.04282209 0.04009585 0.04730901 0.04536422\n",
            " 0.04011631 0.03734233 0.03915823 0.0370232  0.04002766 0.04726128\n",
            " 0.03454175 0.04089095 0.04479347 0.0512995  0.05138133 0.05582733\n",
            " 0.05683382 0.05649287 0.05896749 0.06180966 0.05898113 0.05401824\n",
            " 0.05094628 0.05356342 0.05381504 0.05284946 0.05089854 0.05599713\n",
            " 0.05641922 0.05735002 0.05172092 0.0468194  0.04446752 0.04575223\n",
            " 0.04670348 0.04762814 0.03847088 0.03354891 0.03085744 0.02064663\n",
            " 0.01756648 0.02459553 0.03032692 0.01969402 0.0262205  0.03800855\n",
            " 0.03746507 0.03671089 0.0449235  0.04646428]\n",
            "2 day output [[0.04856379]]\n",
            "3 day input [0.07444803 0.07460351 0.07782004 0.07765638 0.08017874 0.07849922\n",
            " 0.07928818 0.0821433  0.08299977 0.08189236 0.07949138 0.07688856\n",
            " 0.07136788 0.07240846 0.07304059 0.07417527 0.073462   0.07381523\n",
            " 0.07186431 0.07262531 0.07045686 0.07157245 0.07351656 0.07065393\n",
            " 0.073462   0.07418891 0.07534542 0.07098738 0.06888644 0.0674183\n",
            " 0.06527645 0.05393778 0.05340726 0.04129872 0.035045   0.03025873\n",
            " 0.0333457  0.03240058 0.03121066 0.03501772 0.03577259 0.04730901\n",
            " 0.05552116 0.05618056 0.05222416 0.05046349 0.0494645  0.04672394\n",
            " 0.04805706 0.04282209 0.04009585 0.04730901 0.04536422 0.04011631\n",
            " 0.03734233 0.03915823 0.0370232  0.04002766 0.04726128 0.03454175\n",
            " 0.04089095 0.04479347 0.0512995  0.05138133 0.05582733 0.05683382\n",
            " 0.05649287 0.05896749 0.06180966 0.05898113 0.05401824 0.05094628\n",
            " 0.05356342 0.05381504 0.05284946 0.05089854 0.05599713 0.05641922\n",
            " 0.05735002 0.05172092 0.0468194  0.04446752 0.04575223 0.04670348\n",
            " 0.04762814 0.03847088 0.03354891 0.03085744 0.02064663 0.01756648\n",
            " 0.02459553 0.03032692 0.01969402 0.0262205  0.03800855 0.03746507\n",
            " 0.03671089 0.0449235  0.04646428 0.04856379]\n",
            "3 day output [[0.05103951]]\n",
            "4 day input [0.07460351 0.07782004 0.07765638 0.08017874 0.07849922 0.07928818\n",
            " 0.0821433  0.08299977 0.08189236 0.07949138 0.07688856 0.07136788\n",
            " 0.07240846 0.07304059 0.07417527 0.073462   0.07381523 0.07186431\n",
            " 0.07262531 0.07045686 0.07157245 0.07351656 0.07065393 0.073462\n",
            " 0.07418891 0.07534542 0.07098738 0.06888644 0.0674183  0.06527645\n",
            " 0.05393778 0.05340726 0.04129872 0.035045   0.03025873 0.0333457\n",
            " 0.03240058 0.03121066 0.03501772 0.03577259 0.04730901 0.05552116\n",
            " 0.05618056 0.05222416 0.05046349 0.0494645  0.04672394 0.04805706\n",
            " 0.04282209 0.04009585 0.04730901 0.04536422 0.04011631 0.03734233\n",
            " 0.03915823 0.0370232  0.04002766 0.04726128 0.03454175 0.04089095\n",
            " 0.04479347 0.0512995  0.05138133 0.05582733 0.05683382 0.05649287\n",
            " 0.05896749 0.06180966 0.05898113 0.05401824 0.05094628 0.05356342\n",
            " 0.05381504 0.05284946 0.05089854 0.05599713 0.05641922 0.05735002\n",
            " 0.05172092 0.0468194  0.04446752 0.04575223 0.04670348 0.04762814\n",
            " 0.03847088 0.03354891 0.03085744 0.02064663 0.01756648 0.02459553\n",
            " 0.03032692 0.01969402 0.0262205  0.03800855 0.03746507 0.03671089\n",
            " 0.0449235  0.04646428 0.04856379 0.05103951]\n",
            "4 day output [[0.05372997]]\n",
            "5 day input [0.07782004 0.07765638 0.08017874 0.07849922 0.07928818 0.0821433\n",
            " 0.08299977 0.08189236 0.07949138 0.07688856 0.07136788 0.07240846\n",
            " 0.07304059 0.07417527 0.073462   0.07381523 0.07186431 0.07262531\n",
            " 0.07045686 0.07157245 0.07351656 0.07065393 0.073462   0.07418891\n",
            " 0.07534542 0.07098738 0.06888644 0.0674183  0.06527645 0.05393778\n",
            " 0.05340726 0.04129872 0.035045   0.03025873 0.0333457  0.03240058\n",
            " 0.03121066 0.03501772 0.03577259 0.04730901 0.05552116 0.05618056\n",
            " 0.05222416 0.05046349 0.0494645  0.04672394 0.04805706 0.04282209\n",
            " 0.04009585 0.04730901 0.04536422 0.04011631 0.03734233 0.03915823\n",
            " 0.0370232  0.04002766 0.04726128 0.03454175 0.04089095 0.04479347\n",
            " 0.0512995  0.05138133 0.05582733 0.05683382 0.05649287 0.05896749\n",
            " 0.06180966 0.05898113 0.05401824 0.05094628 0.05356342 0.05381504\n",
            " 0.05284946 0.05089854 0.05599713 0.05641922 0.05735002 0.05172092\n",
            " 0.0468194  0.04446752 0.04575223 0.04670348 0.04762814 0.03847088\n",
            " 0.03354891 0.03085744 0.02064663 0.01756648 0.02459553 0.03032692\n",
            " 0.01969402 0.0262205  0.03800855 0.03746507 0.03671089 0.0449235\n",
            " 0.04646428 0.04856379 0.05103951 0.05372997]\n",
            "5 day output [[0.05651482]]\n",
            "6 day input [0.07765638 0.08017874 0.07849922 0.07928818 0.0821433  0.08299977\n",
            " 0.08189236 0.07949138 0.07688856 0.07136788 0.07240846 0.07304059\n",
            " 0.07417527 0.073462   0.07381523 0.07186431 0.07262531 0.07045686\n",
            " 0.07157245 0.07351656 0.07065393 0.073462   0.07418891 0.07534542\n",
            " 0.07098738 0.06888644 0.0674183  0.06527645 0.05393778 0.05340726\n",
            " 0.04129872 0.035045   0.03025873 0.0333457  0.03240058 0.03121066\n",
            " 0.03501772 0.03577259 0.04730901 0.05552116 0.05618056 0.05222416\n",
            " 0.05046349 0.0494645  0.04672394 0.04805706 0.04282209 0.04009585\n",
            " 0.04730901 0.04536422 0.04011631 0.03734233 0.03915823 0.0370232\n",
            " 0.04002766 0.04726128 0.03454175 0.04089095 0.04479347 0.0512995\n",
            " 0.05138133 0.05582733 0.05683382 0.05649287 0.05896749 0.06180966\n",
            " 0.05898113 0.05401824 0.05094628 0.05356342 0.05381504 0.05284946\n",
            " 0.05089854 0.05599713 0.05641922 0.05735002 0.05172092 0.0468194\n",
            " 0.04446752 0.04575223 0.04670348 0.04762814 0.03847088 0.03354891\n",
            " 0.03085744 0.02064663 0.01756648 0.02459553 0.03032692 0.01969402\n",
            " 0.0262205  0.03800855 0.03746507 0.03671089 0.0449235  0.04646428\n",
            " 0.04856379 0.05103951 0.05372997 0.05651482]\n",
            "6 day output [[0.05931472]]\n",
            "7 day input [0.08017874 0.07849922 0.07928818 0.0821433  0.08299977 0.08189236\n",
            " 0.07949138 0.07688856 0.07136788 0.07240846 0.07304059 0.07417527\n",
            " 0.073462   0.07381523 0.07186431 0.07262531 0.07045686 0.07157245\n",
            " 0.07351656 0.07065393 0.073462   0.07418891 0.07534542 0.07098738\n",
            " 0.06888644 0.0674183  0.06527645 0.05393778 0.05340726 0.04129872\n",
            " 0.035045   0.03025873 0.0333457  0.03240058 0.03121066 0.03501772\n",
            " 0.03577259 0.04730901 0.05552116 0.05618056 0.05222416 0.05046349\n",
            " 0.0494645  0.04672394 0.04805706 0.04282209 0.04009585 0.04730901\n",
            " 0.04536422 0.04011631 0.03734233 0.03915823 0.0370232  0.04002766\n",
            " 0.04726128 0.03454175 0.04089095 0.04479347 0.0512995  0.05138133\n",
            " 0.05582733 0.05683382 0.05649287 0.05896749 0.06180966 0.05898113\n",
            " 0.05401824 0.05094628 0.05356342 0.05381504 0.05284946 0.05089854\n",
            " 0.05599713 0.05641922 0.05735002 0.05172092 0.0468194  0.04446752\n",
            " 0.04575223 0.04670348 0.04762814 0.03847088 0.03354891 0.03085744\n",
            " 0.02064663 0.01756648 0.02459553 0.03032692 0.01969402 0.0262205\n",
            " 0.03800855 0.03746507 0.03671089 0.0449235  0.04646428 0.04856379\n",
            " 0.05103951 0.05372997 0.05651482 0.05931472]\n",
            "7 day output [[0.06208264]]\n",
            "8 day input [0.07849922 0.07928818 0.0821433  0.08299977 0.08189236 0.07949138\n",
            " 0.07688856 0.07136788 0.07240846 0.07304059 0.07417527 0.073462\n",
            " 0.07381523 0.07186431 0.07262531 0.07045686 0.07157245 0.07351656\n",
            " 0.07065393 0.073462   0.07418891 0.07534542 0.07098738 0.06888644\n",
            " 0.0674183  0.06527645 0.05393778 0.05340726 0.04129872 0.035045\n",
            " 0.03025873 0.0333457  0.03240058 0.03121066 0.03501772 0.03577259\n",
            " 0.04730901 0.05552116 0.05618056 0.05222416 0.05046349 0.0494645\n",
            " 0.04672394 0.04805706 0.04282209 0.04009585 0.04730901 0.04536422\n",
            " 0.04011631 0.03734233 0.03915823 0.0370232  0.04002766 0.04726128\n",
            " 0.03454175 0.04089095 0.04479347 0.0512995  0.05138133 0.05582733\n",
            " 0.05683382 0.05649287 0.05896749 0.06180966 0.05898113 0.05401824\n",
            " 0.05094628 0.05356342 0.05381504 0.05284946 0.05089854 0.05599713\n",
            " 0.05641922 0.05735002 0.05172092 0.0468194  0.04446752 0.04575223\n",
            " 0.04670348 0.04762814 0.03847088 0.03354891 0.03085744 0.02064663\n",
            " 0.01756648 0.02459553 0.03032692 0.01969402 0.0262205  0.03800855\n",
            " 0.03746507 0.03671089 0.0449235  0.04646428 0.04856379 0.05103951\n",
            " 0.05372997 0.05651482 0.05931472 0.06208264]\n",
            "8 day output [[0.06479393]]\n",
            "9 day input [0.07928818 0.0821433  0.08299977 0.08189236 0.07949138 0.07688856\n",
            " 0.07136788 0.07240846 0.07304059 0.07417527 0.073462   0.07381523\n",
            " 0.07186431 0.07262531 0.07045686 0.07157245 0.07351656 0.07065393\n",
            " 0.073462   0.07418891 0.07534542 0.07098738 0.06888644 0.0674183\n",
            " 0.06527645 0.05393778 0.05340726 0.04129872 0.035045   0.03025873\n",
            " 0.0333457  0.03240058 0.03121066 0.03501772 0.03577259 0.04730901\n",
            " 0.05552116 0.05618056 0.05222416 0.05046349 0.0494645  0.04672394\n",
            " 0.04805706 0.04282209 0.04009585 0.04730901 0.04536422 0.04011631\n",
            " 0.03734233 0.03915823 0.0370232  0.04002766 0.04726128 0.03454175\n",
            " 0.04089095 0.04479347 0.0512995  0.05138133 0.05582733 0.05683382\n",
            " 0.05649287 0.05896749 0.06180966 0.05898113 0.05401824 0.05094628\n",
            " 0.05356342 0.05381504 0.05284946 0.05089854 0.05599713 0.05641922\n",
            " 0.05735002 0.05172092 0.0468194  0.04446752 0.04575223 0.04670348\n",
            " 0.04762814 0.03847088 0.03354891 0.03085744 0.02064663 0.01756648\n",
            " 0.02459553 0.03032692 0.01969402 0.0262205  0.03800855 0.03746507\n",
            " 0.03671089 0.0449235  0.04646428 0.04856379 0.05103951 0.05372997\n",
            " 0.05651482 0.05931472 0.06208264 0.06479393]\n",
            "9 day output [[0.06743774]]\n",
            "10 day input [0.0821433  0.08299977 0.08189236 0.07949138 0.07688856 0.07136788\n",
            " 0.07240846 0.07304059 0.07417527 0.073462   0.07381523 0.07186431\n",
            " 0.07262531 0.07045686 0.07157245 0.07351656 0.07065393 0.073462\n",
            " 0.07418891 0.07534542 0.07098738 0.06888644 0.0674183  0.06527645\n",
            " 0.05393778 0.05340726 0.04129872 0.035045   0.03025873 0.0333457\n",
            " 0.03240058 0.03121066 0.03501772 0.03577259 0.04730901 0.05552116\n",
            " 0.05618056 0.05222416 0.05046349 0.0494645  0.04672394 0.04805706\n",
            " 0.04282209 0.04009585 0.04730901 0.04536422 0.04011631 0.03734233\n",
            " 0.03915823 0.0370232  0.04002766 0.04726128 0.03454175 0.04089095\n",
            " 0.04479347 0.0512995  0.05138133 0.05582733 0.05683382 0.05649287\n",
            " 0.05896749 0.06180966 0.05898113 0.05401824 0.05094628 0.05356342\n",
            " 0.05381504 0.05284946 0.05089854 0.05599713 0.05641922 0.05735002\n",
            " 0.05172092 0.0468194  0.04446752 0.04575223 0.04670348 0.04762814\n",
            " 0.03847088 0.03354891 0.03085744 0.02064663 0.01756648 0.02459553\n",
            " 0.03032692 0.01969402 0.0262205  0.03800855 0.03746507 0.03671089\n",
            " 0.0449235  0.04646428 0.04856379 0.05103951 0.05372997 0.05651482\n",
            " 0.05931472 0.06208264 0.06479393 0.06743774]\n",
            "10 day output [[0.0700108]]\n",
            "11 day input [0.08299977 0.08189236 0.07949138 0.07688856 0.07136788 0.07240846\n",
            " 0.07304059 0.07417527 0.073462   0.07381523 0.07186431 0.07262531\n",
            " 0.07045686 0.07157245 0.07351656 0.07065393 0.073462   0.07418891\n",
            " 0.07534542 0.07098738 0.06888644 0.0674183  0.06527645 0.05393778\n",
            " 0.05340726 0.04129872 0.035045   0.03025873 0.0333457  0.03240058\n",
            " 0.03121066 0.03501772 0.03577259 0.04730901 0.05552116 0.05618056\n",
            " 0.05222416 0.05046349 0.0494645  0.04672394 0.04805706 0.04282209\n",
            " 0.04009585 0.04730901 0.04536422 0.04011631 0.03734233 0.03915823\n",
            " 0.0370232  0.04002766 0.04726128 0.03454175 0.04089095 0.04479347\n",
            " 0.0512995  0.05138133 0.05582733 0.05683382 0.05649287 0.05896749\n",
            " 0.06180966 0.05898113 0.05401824 0.05094628 0.05356342 0.05381504\n",
            " 0.05284946 0.05089854 0.05599713 0.05641922 0.05735002 0.05172092\n",
            " 0.0468194  0.04446752 0.04575223 0.04670348 0.04762814 0.03847088\n",
            " 0.03354891 0.03085744 0.02064663 0.01756648 0.02459553 0.03032692\n",
            " 0.01969402 0.0262205  0.03800855 0.03746507 0.03671089 0.0449235\n",
            " 0.04646428 0.04856379 0.05103951 0.05372997 0.05651482 0.05931472\n",
            " 0.06208264 0.06479393 0.06743774 0.0700108 ]\n",
            "11 day output [[0.07251365]]\n",
            "12 day input [0.08189236 0.07949138 0.07688856 0.07136788 0.07240846 0.07304059\n",
            " 0.07417527 0.073462   0.07381523 0.07186431 0.07262531 0.07045686\n",
            " 0.07157245 0.07351656 0.07065393 0.073462   0.07418891 0.07534542\n",
            " 0.07098738 0.06888644 0.0674183  0.06527645 0.05393778 0.05340726\n",
            " 0.04129872 0.035045   0.03025873 0.0333457  0.03240058 0.03121066\n",
            " 0.03501772 0.03577259 0.04730901 0.05552116 0.05618056 0.05222416\n",
            " 0.05046349 0.0494645  0.04672394 0.04805706 0.04282209 0.04009585\n",
            " 0.04730901 0.04536422 0.04011631 0.03734233 0.03915823 0.0370232\n",
            " 0.04002766 0.04726128 0.03454175 0.04089095 0.04479347 0.0512995\n",
            " 0.05138133 0.05582733 0.05683382 0.05649287 0.05896749 0.06180966\n",
            " 0.05898113 0.05401824 0.05094628 0.05356342 0.05381504 0.05284946\n",
            " 0.05089854 0.05599713 0.05641922 0.05735002 0.05172092 0.0468194\n",
            " 0.04446752 0.04575223 0.04670348 0.04762814 0.03847088 0.03354891\n",
            " 0.03085744 0.02064663 0.01756648 0.02459553 0.03032692 0.01969402\n",
            " 0.0262205  0.03800855 0.03746507 0.03671089 0.0449235  0.04646428\n",
            " 0.04856379 0.05103951 0.05372997 0.05651482 0.05931472 0.06208264\n",
            " 0.06479393 0.06743774 0.0700108  0.07251365]\n",
            "12 day output [[0.07494838]]\n",
            "13 day input [0.07949138 0.07688856 0.07136788 0.07240846 0.07304059 0.07417527\n",
            " 0.073462   0.07381523 0.07186431 0.07262531 0.07045686 0.07157245\n",
            " 0.07351656 0.07065393 0.073462   0.07418891 0.07534542 0.07098738\n",
            " 0.06888644 0.0674183  0.06527645 0.05393778 0.05340726 0.04129872\n",
            " 0.035045   0.03025873 0.0333457  0.03240058 0.03121066 0.03501772\n",
            " 0.03577259 0.04730901 0.05552116 0.05618056 0.05222416 0.05046349\n",
            " 0.0494645  0.04672394 0.04805706 0.04282209 0.04009585 0.04730901\n",
            " 0.04536422 0.04011631 0.03734233 0.03915823 0.0370232  0.04002766\n",
            " 0.04726128 0.03454175 0.04089095 0.04479347 0.0512995  0.05138133\n",
            " 0.05582733 0.05683382 0.05649287 0.05896749 0.06180966 0.05898113\n",
            " 0.05401824 0.05094628 0.05356342 0.05381504 0.05284946 0.05089854\n",
            " 0.05599713 0.05641922 0.05735002 0.05172092 0.0468194  0.04446752\n",
            " 0.04575223 0.04670348 0.04762814 0.03847088 0.03354891 0.03085744\n",
            " 0.02064663 0.01756648 0.02459553 0.03032692 0.01969402 0.0262205\n",
            " 0.03800855 0.03746507 0.03671089 0.0449235  0.04646428 0.04856379\n",
            " 0.05103951 0.05372997 0.05651482 0.05931472 0.06208264 0.06479393\n",
            " 0.06743774 0.0700108  0.07251365 0.07494838]\n",
            "13 day output [[0.07731743]]\n",
            "14 day input [0.07688856 0.07136788 0.07240846 0.07304059 0.07417527 0.073462\n",
            " 0.07381523 0.07186431 0.07262531 0.07045686 0.07157245 0.07351656\n",
            " 0.07065393 0.073462   0.07418891 0.07534542 0.07098738 0.06888644\n",
            " 0.0674183  0.06527645 0.05393778 0.05340726 0.04129872 0.035045\n",
            " 0.03025873 0.0333457  0.03240058 0.03121066 0.03501772 0.03577259\n",
            " 0.04730901 0.05552116 0.05618056 0.05222416 0.05046349 0.0494645\n",
            " 0.04672394 0.04805706 0.04282209 0.04009585 0.04730901 0.04536422\n",
            " 0.04011631 0.03734233 0.03915823 0.0370232  0.04002766 0.04726128\n",
            " 0.03454175 0.04089095 0.04479347 0.0512995  0.05138133 0.05582733\n",
            " 0.05683382 0.05649287 0.05896749 0.06180966 0.05898113 0.05401824\n",
            " 0.05094628 0.05356342 0.05381504 0.05284946 0.05089854 0.05599713\n",
            " 0.05641922 0.05735002 0.05172092 0.0468194  0.04446752 0.04575223\n",
            " 0.04670348 0.04762814 0.03847088 0.03354891 0.03085744 0.02064663\n",
            " 0.01756648 0.02459553 0.03032692 0.01969402 0.0262205  0.03800855\n",
            " 0.03746507 0.03671089 0.0449235  0.04646428 0.04856379 0.05103951\n",
            " 0.05372997 0.05651482 0.05931472 0.06208264 0.06479393 0.06743774\n",
            " 0.0700108  0.07251365 0.07494838 0.07731743]\n",
            "14 day output [[0.07962327]]\n",
            "15 day input [0.07136788 0.07240846 0.07304059 0.07417527 0.073462   0.07381523\n",
            " 0.07186431 0.07262531 0.07045686 0.07157245 0.07351656 0.07065393\n",
            " 0.073462   0.07418891 0.07534542 0.07098738 0.06888644 0.0674183\n",
            " 0.06527645 0.05393778 0.05340726 0.04129872 0.035045   0.03025873\n",
            " 0.0333457  0.03240058 0.03121066 0.03501772 0.03577259 0.04730901\n",
            " 0.05552116 0.05618056 0.05222416 0.05046349 0.0494645  0.04672394\n",
            " 0.04805706 0.04282209 0.04009585 0.04730901 0.04536422 0.04011631\n",
            " 0.03734233 0.03915823 0.0370232  0.04002766 0.04726128 0.03454175\n",
            " 0.04089095 0.04479347 0.0512995  0.05138133 0.05582733 0.05683382\n",
            " 0.05649287 0.05896749 0.06180966 0.05898113 0.05401824 0.05094628\n",
            " 0.05356342 0.05381504 0.05284946 0.05089854 0.05599713 0.05641922\n",
            " 0.05735002 0.05172092 0.0468194  0.04446752 0.04575223 0.04670348\n",
            " 0.04762814 0.03847088 0.03354891 0.03085744 0.02064663 0.01756648\n",
            " 0.02459553 0.03032692 0.01969402 0.0262205  0.03800855 0.03746507\n",
            " 0.03671089 0.0449235  0.04646428 0.04856379 0.05103951 0.05372997\n",
            " 0.05651482 0.05931472 0.06208264 0.06479393 0.06743774 0.0700108\n",
            " 0.07251365 0.07494838 0.07731743 0.07962327]\n",
            "15 day output [[0.08186816]]\n",
            "16 day input [0.07240846 0.07304059 0.07417527 0.073462   0.07381523 0.07186431\n",
            " 0.07262531 0.07045686 0.07157245 0.07351656 0.07065393 0.073462\n",
            " 0.07418891 0.07534542 0.07098738 0.06888644 0.0674183  0.06527645\n",
            " 0.05393778 0.05340726 0.04129872 0.035045   0.03025873 0.0333457\n",
            " 0.03240058 0.03121066 0.03501772 0.03577259 0.04730901 0.05552116\n",
            " 0.05618056 0.05222416 0.05046349 0.0494645  0.04672394 0.04805706\n",
            " 0.04282209 0.04009585 0.04730901 0.04536422 0.04011631 0.03734233\n",
            " 0.03915823 0.0370232  0.04002766 0.04726128 0.03454175 0.04089095\n",
            " 0.04479347 0.0512995  0.05138133 0.05582733 0.05683382 0.05649287\n",
            " 0.05896749 0.06180966 0.05898113 0.05401824 0.05094628 0.05356342\n",
            " 0.05381504 0.05284946 0.05089854 0.05599713 0.05641922 0.05735002\n",
            " 0.05172092 0.0468194  0.04446752 0.04575223 0.04670348 0.04762814\n",
            " 0.03847088 0.03354891 0.03085744 0.02064663 0.01756648 0.02459553\n",
            " 0.03032692 0.01969402 0.0262205  0.03800855 0.03746507 0.03671089\n",
            " 0.0449235  0.04646428 0.04856379 0.05103951 0.05372997 0.05651482\n",
            " 0.05931472 0.06208264 0.06479393 0.06743774 0.0700108  0.07251365\n",
            " 0.07494838 0.07731743 0.07962327 0.08186816]\n",
            "16 day output [[0.08405421]]\n",
            "17 day input [0.07304059 0.07417527 0.073462   0.07381523 0.07186431 0.07262531\n",
            " 0.07045686 0.07157245 0.07351656 0.07065393 0.073462   0.07418891\n",
            " 0.07534542 0.07098738 0.06888644 0.0674183  0.06527645 0.05393778\n",
            " 0.05340726 0.04129872 0.035045   0.03025873 0.0333457  0.03240058\n",
            " 0.03121066 0.03501772 0.03577259 0.04730901 0.05552116 0.05618056\n",
            " 0.05222416 0.05046349 0.0494645  0.04672394 0.04805706 0.04282209\n",
            " 0.04009585 0.04730901 0.04536422 0.04011631 0.03734233 0.03915823\n",
            " 0.0370232  0.04002766 0.04726128 0.03454175 0.04089095 0.04479347\n",
            " 0.0512995  0.05138133 0.05582733 0.05683382 0.05649287 0.05896749\n",
            " 0.06180966 0.05898113 0.05401824 0.05094628 0.05356342 0.05381504\n",
            " 0.05284946 0.05089854 0.05599713 0.05641922 0.05735002 0.05172092\n",
            " 0.0468194  0.04446752 0.04575223 0.04670348 0.04762814 0.03847088\n",
            " 0.03354891 0.03085744 0.02064663 0.01756648 0.02459553 0.03032692\n",
            " 0.01969402 0.0262205  0.03800855 0.03746507 0.03671089 0.0449235\n",
            " 0.04646428 0.04856379 0.05103951 0.05372997 0.05651482 0.05931472\n",
            " 0.06208264 0.06479393 0.06743774 0.0700108  0.07251365 0.07494838\n",
            " 0.07731743 0.07962327 0.08186816 0.08405421]\n",
            "17 day output [[0.08618343]]\n",
            "18 day input [0.07417527 0.073462   0.07381523 0.07186431 0.07262531 0.07045686\n",
            " 0.07157245 0.07351656 0.07065393 0.073462   0.07418891 0.07534542\n",
            " 0.07098738 0.06888644 0.0674183  0.06527645 0.05393778 0.05340726\n",
            " 0.04129872 0.035045   0.03025873 0.0333457  0.03240058 0.03121066\n",
            " 0.03501772 0.03577259 0.04730901 0.05552116 0.05618056 0.05222416\n",
            " 0.05046349 0.0494645  0.04672394 0.04805706 0.04282209 0.04009585\n",
            " 0.04730901 0.04536422 0.04011631 0.03734233 0.03915823 0.0370232\n",
            " 0.04002766 0.04726128 0.03454175 0.04089095 0.04479347 0.0512995\n",
            " 0.05138133 0.05582733 0.05683382 0.05649287 0.05896749 0.06180966\n",
            " 0.05898113 0.05401824 0.05094628 0.05356342 0.05381504 0.05284946\n",
            " 0.05089854 0.05599713 0.05641922 0.05735002 0.05172092 0.0468194\n",
            " 0.04446752 0.04575223 0.04670348 0.04762814 0.03847088 0.03354891\n",
            " 0.03085744 0.02064663 0.01756648 0.02459553 0.03032692 0.01969402\n",
            " 0.0262205  0.03800855 0.03746507 0.03671089 0.0449235  0.04646428\n",
            " 0.04856379 0.05103951 0.05372997 0.05651482 0.05931472 0.06208264\n",
            " 0.06479393 0.06743774 0.0700108  0.07251365 0.07494838 0.07731743\n",
            " 0.07962327 0.08186816 0.08405421 0.08618343]\n",
            "18 day output [[0.08825772]]\n",
            "19 day input [0.073462   0.07381523 0.07186431 0.07262531 0.07045686 0.07157245\n",
            " 0.07351656 0.07065393 0.073462   0.07418891 0.07534542 0.07098738\n",
            " 0.06888644 0.0674183  0.06527645 0.05393778 0.05340726 0.04129872\n",
            " 0.035045   0.03025873 0.0333457  0.03240058 0.03121066 0.03501772\n",
            " 0.03577259 0.04730901 0.05552116 0.05618056 0.05222416 0.05046349\n",
            " 0.0494645  0.04672394 0.04805706 0.04282209 0.04009585 0.04730901\n",
            " 0.04536422 0.04011631 0.03734233 0.03915823 0.0370232  0.04002766\n",
            " 0.04726128 0.03454175 0.04089095 0.04479347 0.0512995  0.05138133\n",
            " 0.05582733 0.05683382 0.05649287 0.05896749 0.06180966 0.05898113\n",
            " 0.05401824 0.05094628 0.05356342 0.05381504 0.05284946 0.05089854\n",
            " 0.05599713 0.05641922 0.05735002 0.05172092 0.0468194  0.04446752\n",
            " 0.04575223 0.04670348 0.04762814 0.03847088 0.03354891 0.03085744\n",
            " 0.02064663 0.01756648 0.02459553 0.03032692 0.01969402 0.0262205\n",
            " 0.03800855 0.03746507 0.03671089 0.0449235  0.04646428 0.04856379\n",
            " 0.05103951 0.05372997 0.05651482 0.05931472 0.06208264 0.06479393\n",
            " 0.06743774 0.0700108  0.07251365 0.07494838 0.07731743 0.07962327\n",
            " 0.08186816 0.08405421 0.08618343 0.08825772]\n",
            "19 day output [[0.09027893]]\n",
            "20 day input [0.07381523 0.07186431 0.07262531 0.07045686 0.07157245 0.07351656\n",
            " 0.07065393 0.073462   0.07418891 0.07534542 0.07098738 0.06888644\n",
            " 0.0674183  0.06527645 0.05393778 0.05340726 0.04129872 0.035045\n",
            " 0.03025873 0.0333457  0.03240058 0.03121066 0.03501772 0.03577259\n",
            " 0.04730901 0.05552116 0.05618056 0.05222416 0.05046349 0.0494645\n",
            " 0.04672394 0.04805706 0.04282209 0.04009585 0.04730901 0.04536422\n",
            " 0.04011631 0.03734233 0.03915823 0.0370232  0.04002766 0.04726128\n",
            " 0.03454175 0.04089095 0.04479347 0.0512995  0.05138133 0.05582733\n",
            " 0.05683382 0.05649287 0.05896749 0.06180966 0.05898113 0.05401824\n",
            " 0.05094628 0.05356342 0.05381504 0.05284946 0.05089854 0.05599713\n",
            " 0.05641922 0.05735002 0.05172092 0.0468194  0.04446752 0.04575223\n",
            " 0.04670348 0.04762814 0.03847088 0.03354891 0.03085744 0.02064663\n",
            " 0.01756648 0.02459553 0.03032692 0.01969402 0.0262205  0.03800855\n",
            " 0.03746507 0.03671089 0.0449235  0.04646428 0.04856379 0.05103951\n",
            " 0.05372997 0.05651482 0.05931472 0.06208264 0.06479393 0.06743774\n",
            " 0.0700108  0.07251365 0.07494838 0.07731743 0.07962327 0.08186816\n",
            " 0.08405421 0.08618343 0.08825772 0.09027893]\n",
            "20 day output [[0.09224881]]\n",
            "21 day input [0.07186431 0.07262531 0.07045686 0.07157245 0.07351656 0.07065393\n",
            " 0.073462   0.07418891 0.07534542 0.07098738 0.06888644 0.0674183\n",
            " 0.06527645 0.05393778 0.05340726 0.04129872 0.035045   0.03025873\n",
            " 0.0333457  0.03240058 0.03121066 0.03501772 0.03577259 0.04730901\n",
            " 0.05552116 0.05618056 0.05222416 0.05046349 0.0494645  0.04672394\n",
            " 0.04805706 0.04282209 0.04009585 0.04730901 0.04536422 0.04011631\n",
            " 0.03734233 0.03915823 0.0370232  0.04002766 0.04726128 0.03454175\n",
            " 0.04089095 0.04479347 0.0512995  0.05138133 0.05582733 0.05683382\n",
            " 0.05649287 0.05896749 0.06180966 0.05898113 0.05401824 0.05094628\n",
            " 0.05356342 0.05381504 0.05284946 0.05089854 0.05599713 0.05641922\n",
            " 0.05735002 0.05172092 0.0468194  0.04446752 0.04575223 0.04670348\n",
            " 0.04762814 0.03847088 0.03354891 0.03085744 0.02064663 0.01756648\n",
            " 0.02459553 0.03032692 0.01969402 0.0262205  0.03800855 0.03746507\n",
            " 0.03671089 0.0449235  0.04646428 0.04856379 0.05103951 0.05372997\n",
            " 0.05651482 0.05931472 0.06208264 0.06479393 0.06743774 0.0700108\n",
            " 0.07251365 0.07494838 0.07731743 0.07962327 0.08186816 0.08405421\n",
            " 0.08618343 0.08825772 0.09027893 0.09224881]\n",
            "21 day output [[0.0941691]]\n",
            "22 day input [0.07262531 0.07045686 0.07157245 0.07351656 0.07065393 0.073462\n",
            " 0.07418891 0.07534542 0.07098738 0.06888644 0.0674183  0.06527645\n",
            " 0.05393778 0.05340726 0.04129872 0.035045   0.03025873 0.0333457\n",
            " 0.03240058 0.03121066 0.03501772 0.03577259 0.04730901 0.05552116\n",
            " 0.05618056 0.05222416 0.05046349 0.0494645  0.04672394 0.04805706\n",
            " 0.04282209 0.04009585 0.04730901 0.04536422 0.04011631 0.03734233\n",
            " 0.03915823 0.0370232  0.04002766 0.04726128 0.03454175 0.04089095\n",
            " 0.04479347 0.0512995  0.05138133 0.05582733 0.05683382 0.05649287\n",
            " 0.05896749 0.06180966 0.05898113 0.05401824 0.05094628 0.05356342\n",
            " 0.05381504 0.05284946 0.05089854 0.05599713 0.05641922 0.05735002\n",
            " 0.05172092 0.0468194  0.04446752 0.04575223 0.04670348 0.04762814\n",
            " 0.03847088 0.03354891 0.03085744 0.02064663 0.01756648 0.02459553\n",
            " 0.03032692 0.01969402 0.0262205  0.03800855 0.03746507 0.03671089\n",
            " 0.0449235  0.04646428 0.04856379 0.05103951 0.05372997 0.05651482\n",
            " 0.05931472 0.06208264 0.06479393 0.06743774 0.0700108  0.07251365\n",
            " 0.07494838 0.07731743 0.07962327 0.08186816 0.08405421 0.08618343\n",
            " 0.08825772 0.09027893 0.09224881 0.0941691 ]\n",
            "22 day output [[0.09604141]]\n",
            "23 day input [0.07045686 0.07157245 0.07351656 0.07065393 0.073462   0.07418891\n",
            " 0.07534542 0.07098738 0.06888644 0.0674183  0.06527645 0.05393778\n",
            " 0.05340726 0.04129872 0.035045   0.03025873 0.0333457  0.03240058\n",
            " 0.03121066 0.03501772 0.03577259 0.04730901 0.05552116 0.05618056\n",
            " 0.05222416 0.05046349 0.0494645  0.04672394 0.04805706 0.04282209\n",
            " 0.04009585 0.04730901 0.04536422 0.04011631 0.03734233 0.03915823\n",
            " 0.0370232  0.04002766 0.04726128 0.03454175 0.04089095 0.04479347\n",
            " 0.0512995  0.05138133 0.05582733 0.05683382 0.05649287 0.05896749\n",
            " 0.06180966 0.05898113 0.05401824 0.05094628 0.05356342 0.05381504\n",
            " 0.05284946 0.05089854 0.05599713 0.05641922 0.05735002 0.05172092\n",
            " 0.0468194  0.04446752 0.04575223 0.04670348 0.04762814 0.03847088\n",
            " 0.03354891 0.03085744 0.02064663 0.01756648 0.02459553 0.03032692\n",
            " 0.01969402 0.0262205  0.03800855 0.03746507 0.03671089 0.0449235\n",
            " 0.04646428 0.04856379 0.05103951 0.05372997 0.05651482 0.05931472\n",
            " 0.06208264 0.06479393 0.06743774 0.0700108  0.07251365 0.07494838\n",
            " 0.07731743 0.07962327 0.08186816 0.08405421 0.08618343 0.08825772\n",
            " 0.09027893 0.09224881 0.0941691  0.09604141]\n",
            "23 day output [[0.09786733]]\n",
            "24 day input [0.07157245 0.07351656 0.07065393 0.073462   0.07418891 0.07534542\n",
            " 0.07098738 0.06888644 0.0674183  0.06527645 0.05393778 0.05340726\n",
            " 0.04129872 0.035045   0.03025873 0.0333457  0.03240058 0.03121066\n",
            " 0.03501772 0.03577259 0.04730901 0.05552116 0.05618056 0.05222416\n",
            " 0.05046349 0.0494645  0.04672394 0.04805706 0.04282209 0.04009585\n",
            " 0.04730901 0.04536422 0.04011631 0.03734233 0.03915823 0.0370232\n",
            " 0.04002766 0.04726128 0.03454175 0.04089095 0.04479347 0.0512995\n",
            " 0.05138133 0.05582733 0.05683382 0.05649287 0.05896749 0.06180966\n",
            " 0.05898113 0.05401824 0.05094628 0.05356342 0.05381504 0.05284946\n",
            " 0.05089854 0.05599713 0.05641922 0.05735002 0.05172092 0.0468194\n",
            " 0.04446752 0.04575223 0.04670348 0.04762814 0.03847088 0.03354891\n",
            " 0.03085744 0.02064663 0.01756648 0.02459553 0.03032692 0.01969402\n",
            " 0.0262205  0.03800855 0.03746507 0.03671089 0.0449235  0.04646428\n",
            " 0.04856379 0.05103951 0.05372997 0.05651482 0.05931472 0.06208264\n",
            " 0.06479393 0.06743774 0.0700108  0.07251365 0.07494838 0.07731743\n",
            " 0.07962327 0.08186816 0.08405421 0.08618343 0.08825772 0.09027893\n",
            " 0.09224881 0.0941691  0.09604141 0.09786733]\n",
            "24 day output [[0.0996483]]\n",
            "25 day input [0.07351656 0.07065393 0.073462   0.07418891 0.07534542 0.07098738\n",
            " 0.06888644 0.0674183  0.06527645 0.05393778 0.05340726 0.04129872\n",
            " 0.035045   0.03025873 0.0333457  0.03240058 0.03121066 0.03501772\n",
            " 0.03577259 0.04730901 0.05552116 0.05618056 0.05222416 0.05046349\n",
            " 0.0494645  0.04672394 0.04805706 0.04282209 0.04009585 0.04730901\n",
            " 0.04536422 0.04011631 0.03734233 0.03915823 0.0370232  0.04002766\n",
            " 0.04726128 0.03454175 0.04089095 0.04479347 0.0512995  0.05138133\n",
            " 0.05582733 0.05683382 0.05649287 0.05896749 0.06180966 0.05898113\n",
            " 0.05401824 0.05094628 0.05356342 0.05381504 0.05284946 0.05089854\n",
            " 0.05599713 0.05641922 0.05735002 0.05172092 0.0468194  0.04446752\n",
            " 0.04575223 0.04670348 0.04762814 0.03847088 0.03354891 0.03085744\n",
            " 0.02064663 0.01756648 0.02459553 0.03032692 0.01969402 0.0262205\n",
            " 0.03800855 0.03746507 0.03671089 0.0449235  0.04646428 0.04856379\n",
            " 0.05103951 0.05372997 0.05651482 0.05931472 0.06208264 0.06479393\n",
            " 0.06743774 0.0700108  0.07251365 0.07494838 0.07731743 0.07962327\n",
            " 0.08186816 0.08405421 0.08618343 0.08825772 0.09027893 0.09224881\n",
            " 0.0941691  0.09604141 0.09786733 0.0996483 ]\n",
            "25 day output [[0.10138576]]\n",
            "26 day input [0.07065393 0.073462   0.07418891 0.07534542 0.07098738 0.06888644\n",
            " 0.0674183  0.06527645 0.05393778 0.05340726 0.04129872 0.035045\n",
            " 0.03025873 0.0333457  0.03240058 0.03121066 0.03501772 0.03577259\n",
            " 0.04730901 0.05552116 0.05618056 0.05222416 0.05046349 0.0494645\n",
            " 0.04672394 0.04805706 0.04282209 0.04009585 0.04730901 0.04536422\n",
            " 0.04011631 0.03734233 0.03915823 0.0370232  0.04002766 0.04726128\n",
            " 0.03454175 0.04089095 0.04479347 0.0512995  0.05138133 0.05582733\n",
            " 0.05683382 0.05649287 0.05896749 0.06180966 0.05898113 0.05401824\n",
            " 0.05094628 0.05356342 0.05381504 0.05284946 0.05089854 0.05599713\n",
            " 0.05641922 0.05735002 0.05172092 0.0468194  0.04446752 0.04575223\n",
            " 0.04670348 0.04762814 0.03847088 0.03354891 0.03085744 0.02064663\n",
            " 0.01756648 0.02459553 0.03032692 0.01969402 0.0262205  0.03800855\n",
            " 0.03746507 0.03671089 0.0449235  0.04646428 0.04856379 0.05103951\n",
            " 0.05372997 0.05651482 0.05931472 0.06208264 0.06479393 0.06743774\n",
            " 0.0700108  0.07251365 0.07494838 0.07731743 0.07962327 0.08186816\n",
            " 0.08405421 0.08618343 0.08825772 0.09027893 0.09224881 0.0941691\n",
            " 0.09604141 0.09786733 0.0996483  0.10138576]\n",
            "26 day output [[0.10308099]]\n",
            "27 day input [0.073462   0.07418891 0.07534542 0.07098738 0.06888644 0.0674183\n",
            " 0.06527645 0.05393778 0.05340726 0.04129872 0.035045   0.03025873\n",
            " 0.0333457  0.03240058 0.03121066 0.03501772 0.03577259 0.04730901\n",
            " 0.05552116 0.05618056 0.05222416 0.05046349 0.0494645  0.04672394\n",
            " 0.04805706 0.04282209 0.04009585 0.04730901 0.04536422 0.04011631\n",
            " 0.03734233 0.03915823 0.0370232  0.04002766 0.04726128 0.03454175\n",
            " 0.04089095 0.04479347 0.0512995  0.05138133 0.05582733 0.05683382\n",
            " 0.05649287 0.05896749 0.06180966 0.05898113 0.05401824 0.05094628\n",
            " 0.05356342 0.05381504 0.05284946 0.05089854 0.05599713 0.05641922\n",
            " 0.05735002 0.05172092 0.0468194  0.04446752 0.04575223 0.04670348\n",
            " 0.04762814 0.03847088 0.03354891 0.03085744 0.02064663 0.01756648\n",
            " 0.02459553 0.03032692 0.01969402 0.0262205  0.03800855 0.03746507\n",
            " 0.03671089 0.0449235  0.04646428 0.04856379 0.05103951 0.05372997\n",
            " 0.05651482 0.05931472 0.06208264 0.06479393 0.06743774 0.0700108\n",
            " 0.07251365 0.07494838 0.07731743 0.07962327 0.08186816 0.08405421\n",
            " 0.08618343 0.08825772 0.09027893 0.09224881 0.0941691  0.09604141\n",
            " 0.09786733 0.0996483  0.10138576 0.10308099]\n",
            "27 day output [[0.10473529]]\n",
            "28 day input [0.07418891 0.07534542 0.07098738 0.06888644 0.0674183  0.06527645\n",
            " 0.05393778 0.05340726 0.04129872 0.035045   0.03025873 0.0333457\n",
            " 0.03240058 0.03121066 0.03501772 0.03577259 0.04730901 0.05552116\n",
            " 0.05618056 0.05222416 0.05046349 0.0494645  0.04672394 0.04805706\n",
            " 0.04282209 0.04009585 0.04730901 0.04536422 0.04011631 0.03734233\n",
            " 0.03915823 0.0370232  0.04002766 0.04726128 0.03454175 0.04089095\n",
            " 0.04479347 0.0512995  0.05138133 0.05582733 0.05683382 0.05649287\n",
            " 0.05896749 0.06180966 0.05898113 0.05401824 0.05094628 0.05356342\n",
            " 0.05381504 0.05284946 0.05089854 0.05599713 0.05641922 0.05735002\n",
            " 0.05172092 0.0468194  0.04446752 0.04575223 0.04670348 0.04762814\n",
            " 0.03847088 0.03354891 0.03085744 0.02064663 0.01756648 0.02459553\n",
            " 0.03032692 0.01969402 0.0262205  0.03800855 0.03746507 0.03671089\n",
            " 0.0449235  0.04646428 0.04856379 0.05103951 0.05372997 0.05651482\n",
            " 0.05931472 0.06208264 0.06479393 0.06743774 0.0700108  0.07251365\n",
            " 0.07494838 0.07731743 0.07962327 0.08186816 0.08405421 0.08618343\n",
            " 0.08825772 0.09027893 0.09224881 0.0941691  0.09604141 0.09786733\n",
            " 0.0996483  0.10138576 0.10308099 0.10473529]\n",
            "28 day output [[0.1063498]]\n",
            "29 day input [0.07534542 0.07098738 0.06888644 0.0674183  0.06527645 0.05393778\n",
            " 0.05340726 0.04129872 0.035045   0.03025873 0.0333457  0.03240058\n",
            " 0.03121066 0.03501772 0.03577259 0.04730901 0.05552116 0.05618056\n",
            " 0.05222416 0.05046349 0.0494645  0.04672394 0.04805706 0.04282209\n",
            " 0.04009585 0.04730901 0.04536422 0.04011631 0.03734233 0.03915823\n",
            " 0.0370232  0.04002766 0.04726128 0.03454175 0.04089095 0.04479347\n",
            " 0.0512995  0.05138133 0.05582733 0.05683382 0.05649287 0.05896749\n",
            " 0.06180966 0.05898113 0.05401824 0.05094628 0.05356342 0.05381504\n",
            " 0.05284946 0.05089854 0.05599713 0.05641922 0.05735002 0.05172092\n",
            " 0.0468194  0.04446752 0.04575223 0.04670348 0.04762814 0.03847088\n",
            " 0.03354891 0.03085744 0.02064663 0.01756648 0.02459553 0.03032692\n",
            " 0.01969402 0.0262205  0.03800855 0.03746507 0.03671089 0.0449235\n",
            " 0.04646428 0.04856379 0.05103951 0.05372997 0.05651482 0.05931472\n",
            " 0.06208264 0.06479393 0.06743774 0.0700108  0.07251365 0.07494838\n",
            " 0.07731743 0.07962327 0.08186816 0.08405421 0.08618343 0.08825772\n",
            " 0.09027893 0.09224881 0.0941691  0.09604141 0.09786733 0.0996483\n",
            " 0.10138576 0.10308099 0.10473529 0.1063498 ]\n",
            "29 day output [[0.10792565]]\n",
            "[[0.04492349922657013], [0.04646427556872368], [0.04856378585100174], [0.05103950947523117], [0.05372997373342514], [0.05651482194662094], [0.05931472405791283], [0.062082644551992416], [0.06479392945766449], [0.06743773818016052], [0.07001079618930817], [0.0725136548280716], [0.07494837790727615], [0.07731743156909943], [0.0796232745051384], [0.08186816424131393], [0.08405420929193497], [0.08618342876434326], [0.08825772255659103], [0.09027893096208572], [0.0922488123178482], [0.09416910260915756], [0.09604141116142273], [0.09786733239889145], [0.09964830428361893], [0.10138576477766037], [0.10308098793029785], [0.10473528504371643], [0.10634980350732803], [0.107925646007061]]\n"
          ]
        }
      ]
    },
    {
      "cell_type": "code",
      "source": [
        "day_new = np.arange(1,101)\n",
        "day_pred = np.arange(101,131)"
      ],
      "metadata": {
        "id": "K4w2oRH8VeHN"
      },
      "execution_count": 57,
      "outputs": []
    },
    {
      "cell_type": "code",
      "source": [
        "len(df2)"
      ],
      "metadata": {
        "colab": {
          "base_uri": "https://localhost:8080/"
        },
        "id": "Tok-chTNXDIP",
        "outputId": "ad85fa29-ac76-47da-a139-8e6881dcb6af"
      },
      "execution_count": 58,
      "outputs": [
        {
          "output_type": "execute_result",
          "data": {
            "text/plain": [
              "1258"
            ]
          },
          "metadata": {},
          "execution_count": 58
        }
      ]
    },
    {
      "cell_type": "code",
      "source": [
        "df2"
      ],
      "metadata": {
        "colab": {
          "base_uri": "https://localhost:8080/"
        },
        "id": "hf13ancZ_-_a",
        "outputId": "28a7191b-eda3-42a0-e673-f85d935d8778"
      },
      "execution_count": 65,
      "outputs": [
        {
          "output_type": "execute_result",
          "data": {
            "text/plain": [
              "array([[0.7611433 ],\n",
              "       [0.74770983],\n",
              "       [0.73338989],\n",
              "       ...,\n",
              "       [0.03800855],\n",
              "       [0.03746507],\n",
              "       [0.03671089]])"
            ]
          },
          "metadata": {},
          "execution_count": 65
        }
      ]
    },
    {
      "cell_type": "code",
      "source": [
        "df3=df2.tolist()\n",
        "df3.extend(lst_output)"
      ],
      "metadata": {
        "id": "B1FwsA7GXEyy"
      },
      "execution_count": 59,
      "outputs": []
    },
    {
      "cell_type": "code",
      "source": [
        "import matplotlib.pyplot as plt"
      ],
      "metadata": {
        "id": "ZPLLWyJbX3k_"
      },
      "execution_count": 60,
      "outputs": []
    },
    {
      "cell_type": "code",
      "source": [
        "plt.plot(day_new,scaler.inverse_transform(df2[1158:]))\n",
        "plt.plot(day_pred,scaler.inverse_transform(lst_output))"
      ],
      "metadata": {
        "colab": {
          "base_uri": "https://localhost:8080/",
          "height": 282
        },
        "id": "B85Hgp3zXKmR",
        "outputId": "9229fbd0-2ed5-4f24-c1c1-d51fc9c66f8b"
      },
      "execution_count": 61,
      "outputs": [
        {
          "output_type": "execute_result",
          "data": {
            "text/plain": [
              "[<matplotlib.lines.Line2D at 0x7fc49022fe50>]"
            ]
          },
          "metadata": {},
          "execution_count": 61
        },
        {
          "output_type": "display_data",
          "data": {
            "text/plain": [
              "<Figure size 432x288 with 1 Axes>"
            ],
            "image/png": "[encoded data removed]"
          },
          "metadata": {
            "needs_background": "light"
          }
        }
      ]
    },
    {
      "cell_type": "code",
      "source": [
        "df3=scaler.inverse_transform(df3).tolist()"
      ],
      "metadata": {
        "id": "Dvh2eoQ-_12l"
      },
      "execution_count": 63,
      "outputs": []
    },
    {
      "cell_type": "code",
      "source": [
        "plt.figure(figsize=(12,8))\n",
        "plt.plot(df3)"
      ],
      "metadata": {
        "colab": {
          "base_uri": "https://localhost:8080/",
          "height": 500
        },
        "id": "3nCY_RrWXhrP",
        "outputId": "eabde7ed-a281-4984-f69f-48ab5a48ceb3"
      },
      "execution_count": 68,
      "outputs": [
        {
          "output_type": "execute_result",
          "data": {
            "text/plain": [
              "[<matplotlib.lines.Line2D at 0x7fc4893e65e0>]"
            ]
          },
          "metadata": {},
          "execution_count": 68
        },
        {
          "output_type": "display_data",
          "data": {
            "text/plain": [
              "<Figure size 864x576 with 1 Axes>"
            ],
            "image/png": "[encoded data removed]"
          },
          "metadata": {
            "needs_background": "light"
          }
        }
      ]
    },
    {
      "cell_type": "code",
      "source": [],
      "metadata": {
        "id": "jbYRBl_WYfWn"
      },
      "execution_count": 45,
      "outputs": []
    }
  ]
}